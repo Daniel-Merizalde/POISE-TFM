{
 "cells": [
  {
   "cell_type": "code",
   "execution_count": 105,
   "id": "6f013a31-4b0c-43bd-bde8-ecda1b11800a",
   "metadata": {},
   "outputs": [],
   "source": [
    "# Importación de librerías:\n",
    "\n",
    "import pandas as pd\n",
    "import requests\n",
    "import time\n",
    "from bs4 import BeautifulSoup\n",
    "from selenium import webdriver\n",
    "from selenium.webdriver.chrome.service import Service\n",
    "from selenium.webdriver.support.ui import Select\n",
    "from selenium.webdriver.common.by import By\n",
    "from functools import reduce\n",
    "import numpy as np\n",
    "import re"
   ]
  },
  {
   "cell_type": "code",
   "execution_count": 106,
   "id": "4f3e8da2-c260-4c22-a29c-ef09e0f6c998",
   "metadata": {},
   "outputs": [],
   "source": [
    "# Definición de urls para descargar datos desde el sitio de la NBA\n",
    "\n",
    "traditional_per100poss_url = \"https://www.nba.com/stats/players/traditional?SeasonType={}&Season={}&PerMode=Per100Possessions\"\n",
    "\n",
    "advanced_per100poss_url = \"https://www.nba.com/stats/players/advanced?SeasonType={}&Season={}&PerMode=Per100Possessions\"\n",
    "\n",
    "misc_per100poss_url = \"https://www.nba.com/stats/players/misc?SeasonType={}&Season={}&PerMode=Per100Possessions\"\n",
    "\n",
    "scoring_per100poss_url = \"https://www.nba.com/stats/players/scoring?SeasonType={}&Season={}&PerMode=Per100Possessions\"\n",
    "\n",
    "defense_per100poss_url = \"https://www.nba.com/stats/players/defense?SeasonType={}&Season={}&PerMode=Per100Possessions\""
   ]
  },
  {
   "cell_type": "code",
   "execution_count": 107,
   "id": "b0833d2b-0893-4e97-b6d1-e610fa230fd6",
   "metadata": {},
   "outputs": [],
   "source": [
    "# Definición de urls para descargar datos TRACKING desde el sitio de la NBA\n",
    "\n",
    "track_drives_url = \"https://www.nba.com/stats/players/drives?SeasonType={}&Season={}&PerMode=PerGame\"\n",
    "\n",
    "track_def_impact_url = \"https://www.nba.com/stats/players/defensive-impact?SeasonType={}&Season={}&PerMode=PerGame\"\n",
    "\n",
    "track_catchandshoot_url = \"https://www.nba.com/stats/players/catch-shoot?SeasonType={}&Season={}&PerMode=PerGame\"\n",
    "\n",
    "track_passing_url = \"https://www.nba.com/stats/players/passing?SeasonType={}&Season={}&PerMode=PerGame\"\n",
    "\n",
    "track_pullup_url = \"https://www.nba.com/stats/players/pullup?SeasonType={}&Season={}&PerMode=PerGame\"\n",
    "\n",
    "track_reb_url = \"https://www.nba.com/stats/players/rebounding?SeasonType={}&Season={}&PerMode=PerGame\"\n",
    "\n",
    "track_offreb_url = \"https://www.nba.com/stats/players/offensive-rebounding?SeasonType={}&Season={}&PerMode=PerGame\"\n",
    "\n",
    "track_defreb_url = \"https://www.nba.com/stats/players/defensive-rebounding?SeasonType={}&Season={}&PerMode=PerGame\"\n",
    "\n",
    "track_shoot_eff_url = \"https://www.nba.com/stats/players/shooting-efficiency?SeasonType={}&Season={}&PerMode=PerGame\"\n",
    "\n",
    "track_speed_url = \"https://www.nba.com/stats/players/speed-distance?SeasonType={}&Season={}&PerMode=PerGame\""
   ]
  },
  {
   "cell_type": "code",
   "execution_count": 108,
   "id": "b27ad100-cfc2-4712-861e-c7cee80767b9",
   "metadata": {},
   "outputs": [],
   "source": [
    "# Definición de urls para descargar datos OTRAS CATEGORIAS desde el sitio de la NBA\n",
    "\n",
    "shoot_by_zone_url = \"https://www.nba.com/stats/players/shooting?DistanceRange=By+Zone&SeasonType={}&Season={}\"\n"
   ]
  },
  {
   "cell_type": "code",
   "execution_count": 109,
   "id": "72b16025-4eb8-4b56-8a8f-6a90409f1352",
   "metadata": {},
   "outputs": [],
   "source": [
    "def scrape_nba_historic_data(selected_url, metric_name):\n",
    "    \n",
    "    url = selected_url\n",
    "    web_data = driver.get(url)\n",
    "    dropdown1 =  Select(driver.find_element(by=By.XPATH, value = '//*[@id=\"__next\"]/div[2]/div[2]/main/div[2]/section/div/div\\\n",
    "                                                [2]/div[1]/div[7]/div/div[3]/div/label/div/select'))\n",
    "    \n",
    "    dropdown2 = driver.find_element(by=By.XPATH, value = '//*[@id=\"__next\"]/div[2]/div[2]/main/div[2]/section/div/div[2]/div\\\n",
    "                                        [1]/div[6]/label/div/span')\n",
    "    time.sleep(5)\n",
    "    dropdown2.click() # Hacer click en switch para activar los jugadores históricos en lugar de solamente la última temporada\n",
    "    time.sleep(5)\n",
    "    dropdown1.select_by_visible_text(\"All\") # Hacer click en menú dropdown para que muestre todas las filas de la tabla\n",
    "    time.sleep(15) \n",
    "    driver.execute_script(\"window.scrollTo(1,10000)\") # Hacer scroll hasta la parte baja de la página para no perder información\n",
    "    time.sleep(2)\n",
    "\n",
    "    html_data = driver.page_source\n",
    "    \n",
    "    # Escribir información obtenida por el driver en un archivo .html    \n",
    "    with open(\"html_data/{}.html\".format(metric_name), \"w+\", encoding=\"utf-8\") as f:\n",
    "        f.write(html_data)"
   ]
  },
  {
   "cell_type": "code",
   "execution_count": 110,
   "id": "f3713683-eda5-4b76-874f-fa8e0c4eb37e",
   "metadata": {},
   "outputs": [],
   "source": [
    "def scrape_nba_season_data(selected_url, folder_name, metric_name, season, seas_type):\n",
    "    \n",
    "    url = selected_url.format(seas_type, season)\n",
    "    web_data = driver.get(url)\n",
    "    time.sleep(10)\n",
    "\n",
    "    dropdown_xpath = '//*[@id=\"__next\"]/div[2]/div[2]/div[3]/section[2]/div/div[2]/div[2]/div[1]/div[3]/div/label/div/select'\n",
    "    dropdown1 =  Select(driver.find_element(by=By.XPATH, value = dropdown_xpath))\n",
    "    dropdown1.select_by_visible_text(\"All\") # Hacer click en menú dropdown para que muestre todas las filas de la tabla\n",
    "    time.sleep(15) \n",
    "    \n",
    "    driver.execute_script(\"window.scrollTo(1,10000)\") # Hacer scroll hasta la parte baja de la página para no perder información\n",
    "    time.sleep(2)\n",
    "\n",
    "    html_data = driver.page_source\n",
    "    \n",
    "    # Escribir información obtenida por el driver en un archivo .html    \n",
    "    with open(\"html_data/{}/{}.html\".format(folder_name, metric_name), \"w+\", encoding=\"utf-8\") as f:\n",
    "        f.write(html_data)"
   ]
  },
  {
   "cell_type": "code",
   "execution_count": 111,
   "id": "400f0966-9b09-46cf-99de-c0df2a7ad0ef",
   "metadata": {},
   "outputs": [],
   "source": [
    "def parse_html(folder_name, file_name, id_name, decompose_id, decompose_class):\n",
    "    with open(\"html_data/{}/{}.html\".format(folder_name, file_name), encoding=\"utf-8\") as f:\n",
    "        page = f.read()\n",
    "    soup = BeautifulSoup(page, \"html.parser\")\n",
    "    # soup.find(decompose_id, class_=decompose_class).decompose()\n",
    "    # data_table = soup.find(id=str(id_name))\n",
    "    data_table = soup.find(class_=str(id_name))\n",
    "    dataframe = pd.read_html(str(data_table), displayed_only=False)[0]\n",
    "    \n",
    "    return dataframe"
   ]
  },
  {
   "cell_type": "code",
   "execution_count": 112,
   "id": "4d7baba3-f566-4487-bb2d-c9bd7def0b2f",
   "metadata": {},
   "outputs": [],
   "source": [
    "# Definición de función que transforma dataframe en archivo csv y lo gusrda en la carpeta de dataset\n",
    "\n",
    "def dataframe_to_csv(dataframe, folder, csv_file_name):\n",
    "    path = \"csv_data/{}/{}.csv\".format(folder, csv_file_name)\n",
    "    dataframe.to_csv(path, index=False)"
   ]
  },
  {
   "cell_type": "code",
   "execution_count": 113,
   "id": "7d96b871-b4fe-44b6-b4f6-6c8e55280e5d",
   "metadata": {},
   "outputs": [],
   "source": [
    "# Inicialización de driver Chrome para hacer Webscraping\n",
    "\n",
    "s = Service(\"D:/Users/user/Desktop/DANI/Programación y DS/Drivers/chromedriver.exe\")\n",
    "driver = webdriver.Chrome(service=s)"
   ]
  },
  {
   "cell_type": "code",
   "execution_count": 114,
   "id": "afdb921a-cb27-4ea6-9b62-ee839761740a",
   "metadata": {},
   "outputs": [],
   "source": [
    "current_season = \"2023-24\""
   ]
  },
  {
   "cell_type": "code",
   "execution_count": 115,
   "id": "f9f45f91-84c9-464a-9c4a-3611a0d8ffc6",
   "metadata": {},
   "outputs": [],
   "source": [
    "filename = \"regseas_trad_per100_{}\".format(current_season)\n",
    "\n",
    "scrape_nba_season_data(traditional_per100poss_url, folder_name = '2024_season', \\\n",
    "                       metric_name = filename, season = current_season, seas_type = 'Regular+Season')\n",
    "time.sleep(1)\n",
    "dataframe = parse_html(folder_name = '2024_season', file_name = filename, id_name=\"Crom_table__p1iZz\", \\\n",
    "                       decompose_id='tr', decompose_class=\"thead\")"
   ]
  },
  {
   "cell_type": "code",
   "execution_count": 116,
   "id": "845d3961-44bd-4db9-8273-241493ad3eff",
   "metadata": {},
   "outputs": [
    {
     "data": {
      "text/plain": [
       "array(['Unnamed: 0', 'Player', 'Team', 'Age', 'GP', 'W', 'L', 'Min',\n",
       "       'PTS', 'FGM', 'FGA', 'FG%', '3PM', '3PA', '3P%', 'FTM', 'FTA',\n",
       "       'FT%', 'OREB', 'DREB', 'REB', 'AST', 'TOV', 'STL', 'BLK', 'PF',\n",
       "       'FP', 'DD2', 'TD3', '+/-', 'GP RANK', 'W RANK', 'L RANK',\n",
       "       'MIN RANK', 'PTS RANK', 'FGM RANK', 'FGA RANK', 'FG% RANK',\n",
       "       '3PM RANK', '3PA RANK', '3P% RANK', 'FTM RANK', 'FTA RANK',\n",
       "       'FT% RANK', 'OREB RANK', 'DREB RANK', 'REB RANK', 'AST RANK',\n",
       "       'TOV RANK', 'STL RANK', 'BLK RANK', 'PF RANK', 'FP RANK',\n",
       "       'DD2 RANK', 'TD3 RANK', '+/- RANK'], dtype=object)"
      ]
     },
     "execution_count": 116,
     "metadata": {},
     "output_type": "execute_result"
    }
   ],
   "source": [
    "dataframe.columns.values"
   ]
  },
  {
   "cell_type": "code",
   "execution_count": 117,
   "id": "ebcd6f9a-bd71-4770-bafb-4d443b40654e",
   "metadata": {},
   "outputs": [],
   "source": [
    "sel_col_list = ['Player', 'Team', 'Age', 'GP', 'Min', 'FGM', 'FGA',\n",
    "               '3PM', 'TOV', 'FTM', '+/-', '3PA', ]"
   ]
  },
  {
   "cell_type": "code",
   "execution_count": 118,
   "id": "6eeb3f7a-728c-483b-876c-5998ef54da56",
   "metadata": {},
   "outputs": [
    {
     "data": {
      "text/html": [
       "<div>\n",
       "<style scoped>\n",
       "    .dataframe tbody tr th:only-of-type {\n",
       "        vertical-align: middle;\n",
       "    }\n",
       "\n",
       "    .dataframe tbody tr th {\n",
       "        vertical-align: top;\n",
       "    }\n",
       "\n",
       "    .dataframe thead th {\n",
       "        text-align: right;\n",
       "    }\n",
       "</style>\n",
       "<table border=\"1\" class=\"dataframe\">\n",
       "  <thead>\n",
       "    <tr style=\"text-align: right;\">\n",
       "      <th></th>\n",
       "      <th>Player</th>\n",
       "      <th>Team</th>\n",
       "      <th>Age</th>\n",
       "      <th>GP</th>\n",
       "      <th>Min</th>\n",
       "      <th>FGM</th>\n",
       "      <th>FGA</th>\n",
       "      <th>3PM</th>\n",
       "      <th>TOV</th>\n",
       "      <th>FTM</th>\n",
       "      <th>+/-</th>\n",
       "      <th>3PA</th>\n",
       "    </tr>\n",
       "  </thead>\n",
       "  <tbody>\n",
       "    <tr>\n",
       "      <td>0</td>\n",
       "      <td>Drew Peterson</td>\n",
       "      <td>BOS</td>\n",
       "      <td>24</td>\n",
       "      <td>1</td>\n",
       "      <td>51.0</td>\n",
       "      <td>20.0</td>\n",
       "      <td>20.0</td>\n",
       "      <td>20.0</td>\n",
       "      <td>0.0</td>\n",
       "      <td>0.0</td>\n",
       "      <td>40.0</td>\n",
       "      <td>20.0</td>\n",
       "    </tr>\n",
       "    <tr>\n",
       "      <td>1</td>\n",
       "      <td>David Duke Jr.</td>\n",
       "      <td>SAS</td>\n",
       "      <td>24</td>\n",
       "      <td>1</td>\n",
       "      <td>53.6</td>\n",
       "      <td>16.7</td>\n",
       "      <td>16.7</td>\n",
       "      <td>16.7</td>\n",
       "      <td>0.0</td>\n",
       "      <td>0.0</td>\n",
       "      <td>-16.7</td>\n",
       "      <td>16.7</td>\n",
       "    </tr>\n",
       "  </tbody>\n",
       "</table>\n",
       "</div>"
      ],
      "text/plain": [
       "           Player Team  Age  GP   Min   FGM   FGA   3PM  TOV  FTM   +/-   3PA\n",
       "0   Drew Peterson  BOS   24   1  51.0  20.0  20.0  20.0  0.0  0.0  40.0  20.0\n",
       "1  David Duke Jr.  SAS   24   1  53.6  16.7  16.7  16.7  0.0  0.0 -16.7  16.7"
      ]
     },
     "execution_count": 118,
     "metadata": {},
     "output_type": "execute_result"
    }
   ],
   "source": [
    "dataframe = dataframe[sel_col_list]\n",
    "dataframe.head(2)"
   ]
  },
  {
   "cell_type": "code",
   "execution_count": 119,
   "id": "2437df7c-3dde-4fdc-b492-a7e50c551734",
   "metadata": {},
   "outputs": [],
   "source": [
    "dataframe.columns = ['player', 'team', 'age', 'gp', 'min', 'fgm_trad', 'fga_trad',\n",
    "               '3pm_trad', 'tov_trad', 'ftm_trad', '+/-_trad', '3pa_trad', ]"
   ]
  },
  {
   "cell_type": "code",
   "execution_count": 120,
   "id": "cd4903d9-bc8c-4f30-9406-ecd5ef77983a",
   "metadata": {},
   "outputs": [
    {
     "name": "stdout",
     "output_type": "stream",
     "text": [
      "saved:  regseas_trad_per100_2023-24\n"
     ]
    }
   ],
   "source": [
    "dataframe_to_csv(dataframe, '2024_season', filename)\n",
    "print(\"saved: \", filename)"
   ]
  },
  {
   "cell_type": "code",
   "execution_count": 121,
   "id": "203acd80-818b-499b-8df9-531bb0ffc36c",
   "metadata": {},
   "outputs": [],
   "source": [
    "filename = \"regseas_adv_per100_{}\".format(current_season)\n",
    "\n",
    "scrape_nba_season_data(advanced_per100poss_url, folder_name = '2024_season', \\\n",
    "                       metric_name = filename, season = current_season, seas_type = 'Regular+Season')\n",
    "time.sleep(1)\n",
    "dataframe = parse_html(folder_name = '2024_season', file_name = filename, id_name=\"Crom_table__p1iZz\", \\\n",
    "                       decompose_id='tr', decompose_class=\"thead\")"
   ]
  },
  {
   "cell_type": "code",
   "execution_count": 122,
   "id": "ab7e7004-f052-4984-9fa6-111fadd0026c",
   "metadata": {},
   "outputs": [
    {
     "data": {
      "text/plain": [
       "array(['Unnamed: 0', 'PLAYER', 'TEAM', 'AGE', 'GP', 'W', 'L', 'MIN',\n",
       "       'OFFRTG', 'DEFRTG', 'NETRTG', 'AST%', 'AST/TO', 'AST\\xa0RATIO',\n",
       "       'OREB%', 'DREB%', 'REB%', 'TO\\xa0RATIO', 'EFG%', 'TS%', 'USG%',\n",
       "       'PACE', 'PIE', 'POSS', 'FGM', 'FGA', 'FGM\\xa0PG', 'FGA\\xa0PG',\n",
       "       'FG%', 'GP RANK', 'W RANK', 'L RANK', 'MIN RANK', 'OFFRTG RANK',\n",
       "       'DEFRTG RANK', 'NETRTG RANK', 'AST% RANK', 'AST/TO RANK',\n",
       "       'AST\\xa0Ratio RANK', 'OREB% RANK', 'DREB% RANK', 'REB% RANK',\n",
       "       'TO\\xa0Ratio RANK', 'eFG% RANK', 'TS% RANK', 'USG% RANK',\n",
       "       'PACE RANK', 'PIE RANK', 'FGM RANK', 'FGA RANK', 'FGM\\xa0PG RANK',\n",
       "       'FGA\\xa0PG RANK', 'FG% RANK'], dtype=object)"
      ]
     },
     "execution_count": 122,
     "metadata": {},
     "output_type": "execute_result"
    }
   ],
   "source": [
    "dataframe.columns.values"
   ]
  },
  {
   "cell_type": "code",
   "execution_count": 123,
   "id": "83f74a15-5de3-43dd-8b36-de711dc1ebd6",
   "metadata": {},
   "outputs": [],
   "source": [
    "sel_col_list = ['PLAYER', 'TEAM', 'PIE', 'POSS', 'TO\\xa0RATIO', 'AST/TO']"
   ]
  },
  {
   "cell_type": "code",
   "execution_count": 124,
   "id": "c4483551-dea1-4193-a7ac-589846bb0798",
   "metadata": {},
   "outputs": [
    {
     "data": {
      "text/html": [
       "<div>\n",
       "<style scoped>\n",
       "    .dataframe tbody tr th:only-of-type {\n",
       "        vertical-align: middle;\n",
       "    }\n",
       "\n",
       "    .dataframe tbody tr th {\n",
       "        vertical-align: top;\n",
       "    }\n",
       "\n",
       "    .dataframe thead th {\n",
       "        text-align: right;\n",
       "    }\n",
       "</style>\n",
       "<table border=\"1\" class=\"dataframe\">\n",
       "  <thead>\n",
       "    <tr style=\"text-align: right;\">\n",
       "      <th></th>\n",
       "      <th>PLAYER</th>\n",
       "      <th>TEAM</th>\n",
       "      <th>PIE</th>\n",
       "      <th>POSS</th>\n",
       "      <th>TO RATIO</th>\n",
       "      <th>AST/TO</th>\n",
       "    </tr>\n",
       "  </thead>\n",
       "  <tbody>\n",
       "    <tr>\n",
       "      <td>0</td>\n",
       "      <td>Buddy Hield</td>\n",
       "      <td>PHI</td>\n",
       "      <td>8.2</td>\n",
       "      <td>4504</td>\n",
       "      <td>8.6</td>\n",
       "      <td>2.29</td>\n",
       "    </tr>\n",
       "    <tr>\n",
       "      <td>1</td>\n",
       "      <td>Obi Toppin</td>\n",
       "      <td>IND</td>\n",
       "      <td>10.1</td>\n",
       "      <td>3722</td>\n",
       "      <td>8.4</td>\n",
       "      <td>1.80</td>\n",
       "    </tr>\n",
       "  </tbody>\n",
       "</table>\n",
       "</div>"
      ],
      "text/plain": [
       "        PLAYER TEAM   PIE  POSS  TO RATIO  AST/TO\n",
       "0  Buddy Hield  PHI   8.2  4504       8.6    2.29\n",
       "1   Obi Toppin  IND  10.1  3722       8.4    1.80"
      ]
     },
     "execution_count": 124,
     "metadata": {},
     "output_type": "execute_result"
    }
   ],
   "source": [
    "dataframe = dataframe[sel_col_list]\n",
    "dataframe.head(2)"
   ]
  },
  {
   "cell_type": "code",
   "execution_count": 125,
   "id": "3471eefc-9068-41d5-9cea-35b0dc0b0eff",
   "metadata": {},
   "outputs": [],
   "source": [
    "dataframe.columns = ['player', 'team', 'pie_adv', 'poss_adv', \n",
    "                     'to\\xa0ratio_adv', 'ast/to_adv']"
   ]
  },
  {
   "cell_type": "code",
   "execution_count": 126,
   "id": "268a4152-98fa-47c2-815a-127fef31b507",
   "metadata": {},
   "outputs": [
    {
     "name": "stdout",
     "output_type": "stream",
     "text": [
      "saved:  regseas_adv_per100_2023-24\n"
     ]
    }
   ],
   "source": [
    "dataframe_to_csv(dataframe, '2024_season', filename)\n",
    "print(\"saved: \", filename)"
   ]
  },
  {
   "cell_type": "code",
   "execution_count": 127,
   "id": "7c526f89-e94d-4069-aaa6-72235ee9e46c",
   "metadata": {},
   "outputs": [],
   "source": [
    "filename = \"regseas_misc_per100_{}\".format(current_season)\n",
    "\n",
    "scrape_nba_season_data(misc_per100poss_url, folder_name = '2024_season', \\\n",
    "                       metric_name = filename, season = current_season, seas_type = 'Regular+Season')\n",
    "time.sleep(1)\n",
    "dataframe = parse_html(folder_name = '2024_season', file_name = filename, id_name=\"Crom_table__p1iZz\", \\\n",
    "                       decompose_id='tr', decompose_class=\"thead\")"
   ]
  },
  {
   "cell_type": "code",
   "execution_count": 128,
   "id": "fa725b11-d29b-4fdb-a505-20fa12e221b5",
   "metadata": {},
   "outputs": [
    {
     "data": {
      "text/plain": [
       "array(['Unnamed: 0', 'Player', 'TEAM', 'AGE', 'GP', 'W', 'L', 'MIN',\n",
       "       'PTSOFF\\xa0TO', '2ndPTS', 'FBPs', 'PITP', 'Opp\\xa0PTSOFF\\xa0TO',\n",
       "       'Opp2nd\\xa0PTS', 'OppFBPs', 'OppPITP', 'BLK', 'BLKA', 'PF', 'PFD',\n",
       "       'GP RANK', 'W RANK', 'L RANK', 'MIN RANK', 'PTSOFF\\xa0TO RANK',\n",
       "       '2ndPTS RANK', 'FBPs RANK', 'PITP RANK',\n",
       "       'OppPTS\\xa0OFF\\xa0TO RANK', 'Opp2nd\\xa0PTS RANK', 'OppFBPs RANK',\n",
       "       'OppPITP RANK', 'BLK RANK', 'BLKA RANK', 'PF RANK', 'PFD RANK'],\n",
       "      dtype=object)"
      ]
     },
     "execution_count": 128,
     "metadata": {},
     "output_type": "execute_result"
    }
   ],
   "source": [
    "dataframe.columns.values"
   ]
  },
  {
   "cell_type": "code",
   "execution_count": 129,
   "id": "c5a51649-d17e-4374-82ec-16aa02105d4a",
   "metadata": {},
   "outputs": [],
   "source": [
    "sel_col_list = ['Player', 'TEAM', 'PF', 'BLKA']"
   ]
  },
  {
   "cell_type": "code",
   "execution_count": 130,
   "id": "979299f7-f818-44c3-b692-cb404b5d75af",
   "metadata": {},
   "outputs": [
    {
     "data": {
      "text/html": [
       "<div>\n",
       "<style scoped>\n",
       "    .dataframe tbody tr th:only-of-type {\n",
       "        vertical-align: middle;\n",
       "    }\n",
       "\n",
       "    .dataframe tbody tr th {\n",
       "        vertical-align: top;\n",
       "    }\n",
       "\n",
       "    .dataframe thead th {\n",
       "        text-align: right;\n",
       "    }\n",
       "</style>\n",
       "<table border=\"1\" class=\"dataframe\">\n",
       "  <thead>\n",
       "    <tr style=\"text-align: right;\">\n",
       "      <th></th>\n",
       "      <th>Player</th>\n",
       "      <th>TEAM</th>\n",
       "      <th>PF</th>\n",
       "      <th>BLKA</th>\n",
       "    </tr>\n",
       "  </thead>\n",
       "  <tbody>\n",
       "    <tr>\n",
       "      <td>0</td>\n",
       "      <td>Buddy Hield</td>\n",
       "      <td>PHI</td>\n",
       "      <td>3.7</td>\n",
       "      <td>0.7</td>\n",
       "    </tr>\n",
       "    <tr>\n",
       "      <td>1</td>\n",
       "      <td>Obi Toppin</td>\n",
       "      <td>IND</td>\n",
       "      <td>3.8</td>\n",
       "      <td>0.8</td>\n",
       "    </tr>\n",
       "  </tbody>\n",
       "</table>\n",
       "</div>"
      ],
      "text/plain": [
       "        Player TEAM   PF  BLKA\n",
       "0  Buddy Hield  PHI  3.7   0.7\n",
       "1   Obi Toppin  IND  3.8   0.8"
      ]
     },
     "execution_count": 130,
     "metadata": {},
     "output_type": "execute_result"
    }
   ],
   "source": [
    "dataframe = dataframe[sel_col_list]\n",
    "dataframe.head(2)"
   ]
  },
  {
   "cell_type": "code",
   "execution_count": 131,
   "id": "62b46226-d199-48d3-b306-3cc06e600983",
   "metadata": {},
   "outputs": [],
   "source": [
    "dataframe.columns = ['player', 'team', 'pf_misc', 'blka_misc']"
   ]
  },
  {
   "cell_type": "code",
   "execution_count": 132,
   "id": "213325a2-cfe2-40f5-beec-6dc39260afcf",
   "metadata": {},
   "outputs": [
    {
     "name": "stdout",
     "output_type": "stream",
     "text": [
      "saved:  regseas_misc_per100_2023-24\n"
     ]
    }
   ],
   "source": [
    "dataframe_to_csv(dataframe, '2024_season', filename)\n",
    "print(\"saved: \", filename)"
   ]
  },
  {
   "cell_type": "code",
   "execution_count": 133,
   "id": "7f865cd5-d0c1-41a1-9f96-cfcf90c52496",
   "metadata": {},
   "outputs": [],
   "source": [
    "filename = \"regseas_scoring_per100_{}\".format(current_season)\n",
    "\n",
    "scrape_nba_season_data(scoring_per100poss_url, folder_name = '2024_season', \\\n",
    "                       metric_name = filename, season = current_season, seas_type = 'Regular+Season')\n",
    "time.sleep(1)\n",
    "dataframe = parse_html(folder_name = '2024_season', file_name = filename, id_name=\"Crom_table__p1iZz\", \\\n",
    "                       decompose_id='tr', decompose_class=\"thead\")"
   ]
  },
  {
   "cell_type": "code",
   "execution_count": 134,
   "id": "be9593d0-9d57-4e95-9ed1-c2cbd29dd7bf",
   "metadata": {},
   "outputs": [
    {
     "data": {
      "text/plain": [
       "array(['Unnamed: 0', 'Player', 'TEAM', 'AGE', 'GP', 'W', 'L', 'MIN',\n",
       "       '%FGA2PT', '%FGA3PT', '%PTS2PT', '%PTS2PT\\xa0MR', '%PTS3PT',\n",
       "       '%PTSFBPs', '%PTSFT', '%PTSOFFTO', '%PTSPITP', '2FGM%AST',\n",
       "       '2FGM%UAST', '3FGM%AST', '3FGM%UAST', 'FGM%AST', 'FGM%UAST',\n",
       "       'GP RANK', 'W RANK', 'L RANK', 'MIN RANK', '%FGA2PT RANK',\n",
       "       '%FGA3PT RANK', '%PTS2PT RANK', '%PTS2PT\\xa0MR RANK',\n",
       "       '%PTS3PT RANK', '%PTSFBPs RANK', '%PTSFT RANK', '%PTSOffTO RANK',\n",
       "       '%PTSPITP RANK', '2FGM%AST RANK', '2FGM%UAST RANK',\n",
       "       '3FGM%AST RANK', '3FGM%UAST RANK', 'FGM%AST RANK', 'FGM%UAST RANK'],\n",
       "      dtype=object)"
      ]
     },
     "execution_count": 134,
     "metadata": {},
     "output_type": "execute_result"
    }
   ],
   "source": [
    "dataframe.columns.values"
   ]
  },
  {
   "cell_type": "code",
   "execution_count": 135,
   "id": "131ee109-9457-4991-8f21-c6d8fc24c58d",
   "metadata": {},
   "outputs": [],
   "source": [
    "sel_col_list = ['Player', 'TEAM', 'FGM%AST', '3FGM%AST']"
   ]
  },
  {
   "cell_type": "code",
   "execution_count": 136,
   "id": "6ac734a8-4a47-452c-9daa-a76d892d5b1c",
   "metadata": {},
   "outputs": [
    {
     "data": {
      "text/html": [
       "<div>\n",
       "<style scoped>\n",
       "    .dataframe tbody tr th:only-of-type {\n",
       "        vertical-align: middle;\n",
       "    }\n",
       "\n",
       "    .dataframe tbody tr th {\n",
       "        vertical-align: top;\n",
       "    }\n",
       "\n",
       "    .dataframe thead th {\n",
       "        text-align: right;\n",
       "    }\n",
       "</style>\n",
       "<table border=\"1\" class=\"dataframe\">\n",
       "  <thead>\n",
       "    <tr style=\"text-align: right;\">\n",
       "      <th></th>\n",
       "      <th>Player</th>\n",
       "      <th>TEAM</th>\n",
       "      <th>FGM%AST</th>\n",
       "      <th>3FGM%AST</th>\n",
       "    </tr>\n",
       "  </thead>\n",
       "  <tbody>\n",
       "    <tr>\n",
       "      <td>0</td>\n",
       "      <td>Buddy Hield</td>\n",
       "      <td>PHI</td>\n",
       "      <td>81.8</td>\n",
       "      <td>92.5</td>\n",
       "    </tr>\n",
       "    <tr>\n",
       "      <td>1</td>\n",
       "      <td>Obi Toppin</td>\n",
       "      <td>IND</td>\n",
       "      <td>85.3</td>\n",
       "      <td>99.0</td>\n",
       "    </tr>\n",
       "  </tbody>\n",
       "</table>\n",
       "</div>"
      ],
      "text/plain": [
       "        Player TEAM  FGM%AST  3FGM%AST\n",
       "0  Buddy Hield  PHI     81.8      92.5\n",
       "1   Obi Toppin  IND     85.3      99.0"
      ]
     },
     "execution_count": 136,
     "metadata": {},
     "output_type": "execute_result"
    }
   ],
   "source": [
    "dataframe = dataframe[sel_col_list]\n",
    "dataframe.head(2)"
   ]
  },
  {
   "cell_type": "code",
   "execution_count": 137,
   "id": "4b369b59-dff9-4035-980b-da3b4c87970c",
   "metadata": {},
   "outputs": [],
   "source": [
    "dataframe.columns = ['player', 'team', 'fgm%ast_scoring', '3fgm%ast_scoring']"
   ]
  },
  {
   "cell_type": "code",
   "execution_count": 138,
   "id": "aeb697dc-697b-4565-9c7f-12e35dcf41b3",
   "metadata": {},
   "outputs": [
    {
     "name": "stdout",
     "output_type": "stream",
     "text": [
      "saved:  regseas_scoring_per100_2023-24\n"
     ]
    }
   ],
   "source": [
    "dataframe_to_csv(dataframe, '2024_season', filename)\n",
    "print(\"saved: \", filename)"
   ]
  },
  {
   "cell_type": "code",
   "execution_count": 139,
   "id": "fee3a0c5-767a-402a-968e-2574317ae0ae",
   "metadata": {},
   "outputs": [],
   "source": [
    "filename = \"regseas_def_per100_{}\".format(current_season)\n",
    "\n",
    "scrape_nba_season_data(defense_per100poss_url, folder_name = '2024_season', \\\n",
    "                       metric_name = filename, season = current_season, seas_type = 'Regular+Season')\n",
    "time.sleep(1)\n",
    "dataframe = parse_html(folder_name = '2024_season', file_name = filename, id_name=\"Crom_table__p1iZz\", \\\n",
    "                       decompose_id='tr', decompose_class=\"thead\")"
   ]
  },
  {
   "cell_type": "code",
   "execution_count": 140,
   "id": "7a715c54-cd6a-45f2-9eeb-d69535ab0c37",
   "metadata": {},
   "outputs": [
    {
     "data": {
      "text/plain": [
       "array(['Unnamed: 0', 'Player', 'TEAM', 'AGE', 'GP', 'W', 'L', 'MIN',\n",
       "       'DEF\\xa0RTG', 'DREB', 'DREB%', '%DREB', 'STL', 'STL%', 'BLK',\n",
       "       '%BLK', 'OPP\\xa0PTSOFF\\xa0TOV', 'OPP\\xa0PTS2ND\\xa0CHANCE',\n",
       "       'OPP\\xa0PTSFB', 'OPP\\xa0PTSPAINT', 'DEFWS', 'GP RANK', 'W RANK',\n",
       "       'L RANK', 'MIN RANK', 'DEF\\xa0RTG RANK', 'DREB RANK', 'DREB% RANK',\n",
       "       '%DREB RANK', 'STL RANK', 'STL% RANK', 'BLK RANK', '%BLK RANK',\n",
       "       'OPP\\xa0PTSOFF\\xa0TOV RANK', 'OPP\\xa0PTS2ND\\xa0CHANCE RANK',\n",
       "       'OPP\\xa0PTSFB RANK', 'OPP\\xa0PTSPAINT RANK', 'DEFWS RANK'],\n",
       "      dtype=object)"
      ]
     },
     "execution_count": 140,
     "metadata": {},
     "output_type": "execute_result"
    }
   ],
   "source": [
    "dataframe.columns.values"
   ]
  },
  {
   "cell_type": "code",
   "execution_count": 141,
   "id": "1cd42efa-cc2c-49e2-9b9d-9f910b7ee2e2",
   "metadata": {},
   "outputs": [],
   "source": [
    "sel_col_list = ['Player', 'TEAM', 'STL%', 'DEFWS', '%DREB',\n",
    "               'DREB', 'OPP\\xa0PTSPAINT', 'OPP\\xa0PTSOFF\\xa0TOV', 'DEF\\xa0RTG',\n",
    "               'STL', 'DREB%', 'BLK', '%BLK', 'OPP\\xa0PTSFB', 'OPP\\xa0PTS2ND\\xa0CHANCE']"
   ]
  },
  {
   "cell_type": "code",
   "execution_count": 142,
   "id": "f1f2ebb3-b672-4d2b-aa8d-37e17b22531b",
   "metadata": {},
   "outputs": [
    {
     "data": {
      "text/html": [
       "<div>\n",
       "<style scoped>\n",
       "    .dataframe tbody tr th:only-of-type {\n",
       "        vertical-align: middle;\n",
       "    }\n",
       "\n",
       "    .dataframe tbody tr th {\n",
       "        vertical-align: top;\n",
       "    }\n",
       "\n",
       "    .dataframe thead th {\n",
       "        text-align: right;\n",
       "    }\n",
       "</style>\n",
       "<table border=\"1\" class=\"dataframe\">\n",
       "  <thead>\n",
       "    <tr style=\"text-align: right;\">\n",
       "      <th></th>\n",
       "      <th>Player</th>\n",
       "      <th>TEAM</th>\n",
       "      <th>STL%</th>\n",
       "      <th>DEFWS</th>\n",
       "      <th>%DREB</th>\n",
       "      <th>DREB</th>\n",
       "      <th>OPP PTSPAINT</th>\n",
       "      <th>OPP PTSOFF TOV</th>\n",
       "      <th>DEF RTG</th>\n",
       "      <th>STL</th>\n",
       "      <th>DREB%</th>\n",
       "      <th>BLK</th>\n",
       "      <th>%BLK</th>\n",
       "      <th>OPP PTSFB</th>\n",
       "      <th>OPP PTS2ND CHANCE</th>\n",
       "    </tr>\n",
       "  </thead>\n",
       "  <tbody>\n",
       "    <tr>\n",
       "      <td>0</td>\n",
       "      <td>Justin Jackson</td>\n",
       "      <td>MIN</td>\n",
       "      <td>0.0</td>\n",
       "      <td>1.723</td>\n",
       "      <td>0.0</td>\n",
       "      <td>0.0</td>\n",
       "      <td>0.0</td>\n",
       "      <td>0.0</td>\n",
       "      <td>0.0</td>\n",
       "      <td>0.0</td>\n",
       "      <td>0.0</td>\n",
       "      <td>0.0</td>\n",
       "      <td>0.0</td>\n",
       "      <td>0.0</td>\n",
       "      <td>0.0</td>\n",
       "    </tr>\n",
       "    <tr>\n",
       "      <td>1</td>\n",
       "      <td>Andrew Funk</td>\n",
       "      <td>CHI</td>\n",
       "      <td>0.0</td>\n",
       "      <td>1.431</td>\n",
       "      <td>0.0</td>\n",
       "      <td>0.0</td>\n",
       "      <td>0.0</td>\n",
       "      <td>0.0</td>\n",
       "      <td>33.3</td>\n",
       "      <td>0.0</td>\n",
       "      <td>0.0</td>\n",
       "      <td>0.0</td>\n",
       "      <td>0.0</td>\n",
       "      <td>0.0</td>\n",
       "      <td>0.0</td>\n",
       "    </tr>\n",
       "  </tbody>\n",
       "</table>\n",
       "</div>"
      ],
      "text/plain": [
       "           Player TEAM  STL%  DEFWS  %DREB  DREB  OPP PTSPAINT  \\\n",
       "0  Justin Jackson  MIN   0.0  1.723    0.0   0.0           0.0   \n",
       "1     Andrew Funk  CHI   0.0  1.431    0.0   0.0           0.0   \n",
       "\n",
       "   OPP PTSOFF TOV  DEF RTG  STL  DREB%  BLK  %BLK  OPP PTSFB  \\\n",
       "0             0.0      0.0  0.0    0.0  0.0   0.0        0.0   \n",
       "1             0.0     33.3  0.0    0.0  0.0   0.0        0.0   \n",
       "\n",
       "   OPP PTS2ND CHANCE  \n",
       "0                0.0  \n",
       "1                0.0  "
      ]
     },
     "execution_count": 142,
     "metadata": {},
     "output_type": "execute_result"
    }
   ],
   "source": [
    "dataframe = dataframe[sel_col_list]\n",
    "dataframe.head(2)"
   ]
  },
  {
   "cell_type": "code",
   "execution_count": 143,
   "id": "fb54b563-5b25-40e1-b691-0664f3526872",
   "metadata": {},
   "outputs": [],
   "source": [
    "dataframe.columns = ['player', 'team', 'stl%_def', 'defws_def', '%dreb_def',\n",
    "                       'dreb_def', 'opp\\xa0ptspaint_def', 'opp\\xa0pts\\xa0tov_def', 'def\\xa0rtg_def',\n",
    "                       'stl_def', 'dreb%_def', 'blk_def', '%blk_def', 'opp\\xa0ptsfb_def', 'opp\\xa0pts2nd\\xa0chance_def']"
   ]
  },
  {
   "cell_type": "code",
   "execution_count": 144,
   "id": "5542b283-15d3-4a94-aff3-07409668779b",
   "metadata": {},
   "outputs": [
    {
     "name": "stdout",
     "output_type": "stream",
     "text": [
      "saved:  regseas_def_per100_2023-24\n"
     ]
    }
   ],
   "source": [
    "dataframe_to_csv(dataframe, '2024_season', filename)\n",
    "print(\"saved: \", filename)"
   ]
  },
  {
   "cell_type": "code",
   "execution_count": 145,
   "id": "0386d099-a65d-44d0-a081-acd27a9a0968",
   "metadata": {},
   "outputs": [],
   "source": [
    "filename = \"regseas_drives_{}\".format(current_season)\n",
    "\n",
    "scrape_nba_season_data(track_drives_url, folder_name = '2024_season', \\\n",
    "                       metric_name = filename, season = current_season, seas_type = 'Regular+Season')\n",
    "time.sleep(1)\n",
    "dataframe = parse_html(folder_name = '2024_season', file_name = filename, id_name=\"Crom_table__p1iZz\", \\\n",
    "                       decompose_id='tr', decompose_class=\"thead\")"
   ]
  },
  {
   "cell_type": "code",
   "execution_count": 146,
   "id": "9e1f1091-cb4e-4306-ac01-948331e3798b",
   "metadata": {},
   "outputs": [
    {
     "data": {
      "text/plain": [
       "array(['PLAYER', 'TEAM', 'GP', 'W', 'L', 'MIN', 'DRIVES', 'FGM', 'FGA',\n",
       "       'FG%', 'FTM', 'FTA', 'FT%', 'PTS', 'PTS%', 'PASS', 'PASS%', 'AST',\n",
       "       'AST%', 'TO', 'TOV%', 'PF', 'PF%'], dtype=object)"
      ]
     },
     "execution_count": 146,
     "metadata": {},
     "output_type": "execute_result"
    }
   ],
   "source": [
    "dataframe.columns.values"
   ]
  },
  {
   "cell_type": "code",
   "execution_count": 147,
   "id": "3a0f5306-c714-4d9a-9091-74dd70e81274",
   "metadata": {},
   "outputs": [],
   "source": [
    "sel_col_list = ['PLAYER', 'TEAM', 'PASS%', 'FG%', 'PTS%', 'TOV%',\n",
    "               'FT%', 'FTM', 'PF%']"
   ]
  },
  {
   "cell_type": "code",
   "execution_count": 148,
   "id": "5a048ed5-0748-4993-8ca1-a299e7716af7",
   "metadata": {},
   "outputs": [
    {
     "data": {
      "text/html": [
       "<div>\n",
       "<style scoped>\n",
       "    .dataframe tbody tr th:only-of-type {\n",
       "        vertical-align: middle;\n",
       "    }\n",
       "\n",
       "    .dataframe tbody tr th {\n",
       "        vertical-align: top;\n",
       "    }\n",
       "\n",
       "    .dataframe thead th {\n",
       "        text-align: right;\n",
       "    }\n",
       "</style>\n",
       "<table border=\"1\" class=\"dataframe\">\n",
       "  <thead>\n",
       "    <tr style=\"text-align: right;\">\n",
       "      <th></th>\n",
       "      <th>PLAYER</th>\n",
       "      <th>TEAM</th>\n",
       "      <th>PASS%</th>\n",
       "      <th>FG%</th>\n",
       "      <th>PTS%</th>\n",
       "      <th>TOV%</th>\n",
       "      <th>FT%</th>\n",
       "      <th>FTM</th>\n",
       "      <th>PF%</th>\n",
       "    </tr>\n",
       "  </thead>\n",
       "  <tbody>\n",
       "    <tr>\n",
       "      <td>0</td>\n",
       "      <td>A.J. Lawson</td>\n",
       "      <td>DAL</td>\n",
       "      <td>20.7</td>\n",
       "      <td>22.2</td>\n",
       "      <td>34.5</td>\n",
       "      <td>6.9</td>\n",
       "      <td>33.3</td>\n",
       "      <td>0.1</td>\n",
       "      <td>10.3</td>\n",
       "    </tr>\n",
       "    <tr>\n",
       "      <td>1</td>\n",
       "      <td>AJ Green</td>\n",
       "      <td>MIL</td>\n",
       "      <td>63.6</td>\n",
       "      <td>40.0</td>\n",
       "      <td>18.2</td>\n",
       "      <td>9.1</td>\n",
       "      <td>0.0</td>\n",
       "      <td>0.0</td>\n",
       "      <td>0.0</td>\n",
       "    </tr>\n",
       "  </tbody>\n",
       "</table>\n",
       "</div>"
      ],
      "text/plain": [
       "        PLAYER TEAM  PASS%   FG%  PTS%  TOV%   FT%  FTM   PF%\n",
       "0  A.J. Lawson  DAL   20.7  22.2  34.5   6.9  33.3  0.1  10.3\n",
       "1     AJ Green  MIL   63.6  40.0  18.2   9.1   0.0  0.0   0.0"
      ]
     },
     "execution_count": 148,
     "metadata": {},
     "output_type": "execute_result"
    }
   ],
   "source": [
    "dataframe = dataframe[sel_col_list]\n",
    "dataframe.head(2)"
   ]
  },
  {
   "cell_type": "code",
   "execution_count": 149,
   "id": "c2c96189-0961-41e4-99c5-ecfaeabc6eeb",
   "metadata": {},
   "outputs": [],
   "source": [
    "dataframe.columns = ['player', 'team', 'pass%_drives', 'fg%_drives', 'pts%_drives', 'tov%_drives',\n",
    "                       'ft%_drives', 'ftm_drives', 'pf%_drives']"
   ]
  },
  {
   "cell_type": "code",
   "execution_count": 150,
   "id": "fc4e84eb-fc81-4c45-b5a6-78d4790cfefc",
   "metadata": {},
   "outputs": [
    {
     "name": "stdout",
     "output_type": "stream",
     "text": [
      "saved:  regseas_drives_2023-24\n"
     ]
    }
   ],
   "source": [
    "dataframe_to_csv(dataframe, '2024_season', filename)\n",
    "print(\"saved: \", filename)"
   ]
  },
  {
   "cell_type": "code",
   "execution_count": 151,
   "id": "68749338-c430-4d57-9c13-373204dc0cd3",
   "metadata": {},
   "outputs": [],
   "source": [
    "filename = \"regseas_def_imp_{}\".format(current_season)\n",
    "\n",
    "scrape_nba_season_data(track_def_impact_url, folder_name = '2024_season', \\\n",
    "                       metric_name = filename, season = current_season, seas_type = 'Regular+Season')\n",
    "time.sleep(1)\n",
    "dataframe = parse_html(folder_name = '2024_season', file_name = filename, id_name=\"Crom_table__p1iZz\", \\\n",
    "                       decompose_id='tr', decompose_class=\"thead\")"
   ]
  },
  {
   "cell_type": "code",
   "execution_count": 152,
   "id": "f3e792eb-e8a8-427d-943d-2c4a359d0cd1",
   "metadata": {},
   "outputs": [
    {
     "data": {
      "text/plain": [
       "array(['Player', 'Team', 'GP', 'MIN', 'W', 'L', 'STL', 'BLK', 'DREB',\n",
       "       'DFGM', 'DFGA', 'DFG%'], dtype=object)"
      ]
     },
     "execution_count": 152,
     "metadata": {},
     "output_type": "execute_result"
    }
   ],
   "source": [
    "dataframe.columns.values"
   ]
  },
  {
   "cell_type": "code",
   "execution_count": 153,
   "id": "73d393f6-882b-49da-8fa0-b7fae908e912",
   "metadata": {},
   "outputs": [],
   "source": [
    "sel_col_list = ['Player', 'Team', 'DFG%', 'DFGA', 'DFGM']"
   ]
  },
  {
   "cell_type": "code",
   "execution_count": 154,
   "id": "2c7cb9db-374c-4fb6-975b-88db381e03e1",
   "metadata": {},
   "outputs": [
    {
     "data": {
      "text/html": [
       "<div>\n",
       "<style scoped>\n",
       "    .dataframe tbody tr th:only-of-type {\n",
       "        vertical-align: middle;\n",
       "    }\n",
       "\n",
       "    .dataframe tbody tr th {\n",
       "        vertical-align: top;\n",
       "    }\n",
       "\n",
       "    .dataframe thead th {\n",
       "        text-align: right;\n",
       "    }\n",
       "</style>\n",
       "<table border=\"1\" class=\"dataframe\">\n",
       "  <thead>\n",
       "    <tr style=\"text-align: right;\">\n",
       "      <th></th>\n",
       "      <th>Player</th>\n",
       "      <th>Team</th>\n",
       "      <th>DFG%</th>\n",
       "      <th>DFGA</th>\n",
       "      <th>DFGM</th>\n",
       "    </tr>\n",
       "  </thead>\n",
       "  <tbody>\n",
       "    <tr>\n",
       "      <td>0</td>\n",
       "      <td>A.J. Lawson</td>\n",
       "      <td>DAL</td>\n",
       "      <td>72.2</td>\n",
       "      <td>0.5</td>\n",
       "      <td>0.4</td>\n",
       "    </tr>\n",
       "    <tr>\n",
       "      <td>1</td>\n",
       "      <td>AJ Green</td>\n",
       "      <td>MIL</td>\n",
       "      <td>76.3</td>\n",
       "      <td>0.7</td>\n",
       "      <td>0.5</td>\n",
       "    </tr>\n",
       "  </tbody>\n",
       "</table>\n",
       "</div>"
      ],
      "text/plain": [
       "        Player Team  DFG%  DFGA  DFGM\n",
       "0  A.J. Lawson  DAL  72.2   0.5   0.4\n",
       "1     AJ Green  MIL  76.3   0.7   0.5"
      ]
     },
     "execution_count": 154,
     "metadata": {},
     "output_type": "execute_result"
    }
   ],
   "source": [
    "dataframe = dataframe[sel_col_list]\n",
    "dataframe.head(2)"
   ]
  },
  {
   "cell_type": "code",
   "execution_count": 155,
   "id": "d91c7b64-ae86-43ee-a5f9-5f6766bf57f7",
   "metadata": {},
   "outputs": [],
   "source": [
    "dataframe.columns = ['player', 'team', 'dfg%_imp', 'dfga_imp', 'dfgm_imp']"
   ]
  },
  {
   "cell_type": "code",
   "execution_count": 156,
   "id": "1e455161-5c29-41b1-a9c4-520bf423d51e",
   "metadata": {},
   "outputs": [
    {
     "name": "stdout",
     "output_type": "stream",
     "text": [
      "saved:  regseas_def_imp_2023-24\n"
     ]
    }
   ],
   "source": [
    "dataframe_to_csv(dataframe, '2024_season', filename)\n",
    "print(\"saved: \", filename)"
   ]
  },
  {
   "cell_type": "code",
   "execution_count": 157,
   "id": "29c8cd85-8bd4-4c93-92ce-be1c045f4236",
   "metadata": {},
   "outputs": [],
   "source": [
    "filename = \"regseas_cns_{}\".format(current_season)\n",
    "\n",
    "scrape_nba_season_data(track_catchandshoot_url, folder_name = '2024_season', \\\n",
    "                       metric_name = filename, season = current_season, seas_type = 'Regular+Season')\n",
    "time.sleep(1)\n",
    "dataframe = parse_html(folder_name = '2024_season', file_name = filename, id_name=\"Crom_table__p1iZz\", \\\n",
    "                       decompose_id='tr', decompose_class=\"thead\")"
   ]
  },
  {
   "cell_type": "code",
   "execution_count": 158,
   "id": "6cd57195-f3b3-42a0-8b06-742f47b3e297",
   "metadata": {},
   "outputs": [
    {
     "data": {
      "text/plain": [
       "array(['PLAYER', 'TEAM', 'GP', 'MIN', 'PTS', 'FGM', 'FGA', 'FG%', '3PM',\n",
       "       '3PA', '3P%', 'eFG%'], dtype=object)"
      ]
     },
     "execution_count": 158,
     "metadata": {},
     "output_type": "execute_result"
    }
   ],
   "source": [
    "dataframe.columns.values"
   ]
  },
  {
   "cell_type": "code",
   "execution_count": 159,
   "id": "32cb92d4-54a7-41fd-9e55-57d12f06912a",
   "metadata": {},
   "outputs": [],
   "source": [
    "sel_col_list = ['PLAYER', 'TEAM', '3P%']"
   ]
  },
  {
   "cell_type": "code",
   "execution_count": 160,
   "id": "5b1507ef-0d36-4aa2-b1f9-b8760c5bf7d1",
   "metadata": {},
   "outputs": [
    {
     "data": {
      "text/html": [
       "<div>\n",
       "<style scoped>\n",
       "    .dataframe tbody tr th:only-of-type {\n",
       "        vertical-align: middle;\n",
       "    }\n",
       "\n",
       "    .dataframe tbody tr th {\n",
       "        vertical-align: top;\n",
       "    }\n",
       "\n",
       "    .dataframe thead th {\n",
       "        text-align: right;\n",
       "    }\n",
       "</style>\n",
       "<table border=\"1\" class=\"dataframe\">\n",
       "  <thead>\n",
       "    <tr style=\"text-align: right;\">\n",
       "      <th></th>\n",
       "      <th>PLAYER</th>\n",
       "      <th>TEAM</th>\n",
       "      <th>3P%</th>\n",
       "    </tr>\n",
       "  </thead>\n",
       "  <tbody>\n",
       "    <tr>\n",
       "      <td>0</td>\n",
       "      <td>A.J. Lawson</td>\n",
       "      <td>DAL</td>\n",
       "      <td>30.2</td>\n",
       "    </tr>\n",
       "    <tr>\n",
       "      <td>1</td>\n",
       "      <td>AJ Green</td>\n",
       "      <td>MIL</td>\n",
       "      <td>42.2</td>\n",
       "    </tr>\n",
       "  </tbody>\n",
       "</table>\n",
       "</div>"
      ],
      "text/plain": [
       "        PLAYER TEAM   3P%\n",
       "0  A.J. Lawson  DAL  30.2\n",
       "1     AJ Green  MIL  42.2"
      ]
     },
     "execution_count": 160,
     "metadata": {},
     "output_type": "execute_result"
    }
   ],
   "source": [
    "dataframe = dataframe[sel_col_list]\n",
    "dataframe.head(2)"
   ]
  },
  {
   "cell_type": "code",
   "execution_count": 161,
   "id": "12a55bb8-b5ea-4838-aca6-f12469b2f901",
   "metadata": {},
   "outputs": [],
   "source": [
    "dataframe.columns = ['player', 'team', '3p%_catch&shoot']"
   ]
  },
  {
   "cell_type": "code",
   "execution_count": 162,
   "id": "85e998cc-cd01-4f4a-b48c-9736946b70c3",
   "metadata": {},
   "outputs": [
    {
     "name": "stdout",
     "output_type": "stream",
     "text": [
      "saved:  regseas_cns_2023-24\n"
     ]
    }
   ],
   "source": [
    "dataframe_to_csv(dataframe, '2024_season', filename)\n",
    "print(\"saved: \", filename)"
   ]
  },
  {
   "cell_type": "code",
   "execution_count": 163,
   "id": "a1931e8f-a0a7-4454-b674-124a66cba9d7",
   "metadata": {},
   "outputs": [],
   "source": [
    "filename = \"regseas_pup_{}\".format(current_season)\n",
    "\n",
    "scrape_nba_season_data(track_pullup_url, folder_name = '2024_season', \\\n",
    "                       metric_name = filename, season = current_season, seas_type = 'Regular+Season')\n",
    "time.sleep(1)\n",
    "dataframe = parse_html(folder_name = '2024_season', file_name = filename, id_name=\"Crom_table__p1iZz\", \\\n",
    "                       decompose_id='tr', decompose_class=\"thead\")"
   ]
  },
  {
   "cell_type": "code",
   "execution_count": 164,
   "id": "db7dcc46-9a35-4c1a-8879-a941b356dc63",
   "metadata": {},
   "outputs": [
    {
     "data": {
      "text/plain": [
       "array(['PLAYER', 'TEAM', 'GP', 'W', 'L', 'MIN', 'PTS', 'FGM', 'FGA',\n",
       "       'FG%', '3PM', '3PA', '3P%', 'eFG%'], dtype=object)"
      ]
     },
     "execution_count": 164,
     "metadata": {},
     "output_type": "execute_result"
    }
   ],
   "source": [
    "dataframe.columns.values"
   ]
  },
  {
   "cell_type": "code",
   "execution_count": 165,
   "id": "45ad9ab5-4798-4b30-b218-1c26a02ba389",
   "metadata": {},
   "outputs": [],
   "source": [
    "sel_col_list = ['PLAYER', 'TEAM', 'FG%']"
   ]
  },
  {
   "cell_type": "code",
   "execution_count": 166,
   "id": "3920d2c5-dec8-40c0-aa6a-a490d1400fc1",
   "metadata": {},
   "outputs": [
    {
     "data": {
      "text/html": [
       "<div>\n",
       "<style scoped>\n",
       "    .dataframe tbody tr th:only-of-type {\n",
       "        vertical-align: middle;\n",
       "    }\n",
       "\n",
       "    .dataframe tbody tr th {\n",
       "        vertical-align: top;\n",
       "    }\n",
       "\n",
       "    .dataframe thead th {\n",
       "        text-align: right;\n",
       "    }\n",
       "</style>\n",
       "<table border=\"1\" class=\"dataframe\">\n",
       "  <thead>\n",
       "    <tr style=\"text-align: right;\">\n",
       "      <th></th>\n",
       "      <th>PLAYER</th>\n",
       "      <th>TEAM</th>\n",
       "      <th>FG%</th>\n",
       "    </tr>\n",
       "  </thead>\n",
       "  <tbody>\n",
       "    <tr>\n",
       "      <td>0</td>\n",
       "      <td>A.J. Lawson</td>\n",
       "      <td>DAL</td>\n",
       "      <td>0.0</td>\n",
       "    </tr>\n",
       "    <tr>\n",
       "      <td>1</td>\n",
       "      <td>AJ Green</td>\n",
       "      <td>MIL</td>\n",
       "      <td>36.4</td>\n",
       "    </tr>\n",
       "  </tbody>\n",
       "</table>\n",
       "</div>"
      ],
      "text/plain": [
       "        PLAYER TEAM   FG%\n",
       "0  A.J. Lawson  DAL   0.0\n",
       "1     AJ Green  MIL  36.4"
      ]
     },
     "execution_count": 166,
     "metadata": {},
     "output_type": "execute_result"
    }
   ],
   "source": [
    "dataframe = dataframe[sel_col_list]\n",
    "dataframe.head(2)"
   ]
  },
  {
   "cell_type": "code",
   "execution_count": 167,
   "id": "01cb7c84-20d5-416a-a84d-434f60a3f06e",
   "metadata": {},
   "outputs": [],
   "source": [
    "dataframe.columns = ['player', 'team', 'fg%_pullup']"
   ]
  },
  {
   "cell_type": "code",
   "execution_count": 168,
   "id": "973718f1-700c-48ff-a5b2-45829b9381b6",
   "metadata": {},
   "outputs": [
    {
     "name": "stdout",
     "output_type": "stream",
     "text": [
      "saved:  regseas_pup_2023-24\n"
     ]
    }
   ],
   "source": [
    "dataframe_to_csv(dataframe, '2024_season', filename)\n",
    "print(\"saved: \", filename)"
   ]
  },
  {
   "cell_type": "code",
   "execution_count": 169,
   "id": "2ffcb4c4-811c-4d3a-be25-e79d1383af76",
   "metadata": {},
   "outputs": [],
   "source": [
    "filename = \"regseas_offreb_{}\".format(current_season)\n",
    "\n",
    "scrape_nba_season_data(track_offreb_url, folder_name = '2024_season', \\\n",
    "                       metric_name = filename, season = current_season, seas_type = 'Regular+Season')\n",
    "time.sleep(1)\n",
    "dataframe = parse_html(folder_name = '2024_season', file_name = filename, id_name=\"Crom_table__p1iZz\", \\\n",
    "                       decompose_id='tr', decompose_class=\"thead\")"
   ]
  },
  {
   "cell_type": "code",
   "execution_count": 170,
   "id": "82eae201-74cc-49c7-b068-a81fcf2efbbe",
   "metadata": {},
   "outputs": [
    {
     "data": {
      "text/plain": [
       "array(['PLAYER', 'TEAM', 'GP', 'W', 'L', 'MIN', 'OREB', 'ContestedOREB',\n",
       "       'ContestedOREB%', 'OREBChances', 'OREBChance%',\n",
       "       'DeferredOREB\\xa0Chances', 'AdjustedOREB\\xa0Chance%',\n",
       "       'AVG\\xa0OREBDistance'], dtype=object)"
      ]
     },
     "execution_count": 170,
     "metadata": {},
     "output_type": "execute_result"
    }
   ],
   "source": [
    "dataframe.columns.values"
   ]
  },
  {
   "cell_type": "code",
   "execution_count": 171,
   "id": "8ea4ef59-343f-4505-bc32-ced7c03f66ab",
   "metadata": {},
   "outputs": [],
   "source": [
    "sel_col_list = ['PLAYER', 'TEAM', 'OREB']"
   ]
  },
  {
   "cell_type": "code",
   "execution_count": 172,
   "id": "e8a6f183-fa88-4726-a0da-afe59829b0a1",
   "metadata": {},
   "outputs": [
    {
     "data": {
      "text/html": [
       "<div>\n",
       "<style scoped>\n",
       "    .dataframe tbody tr th:only-of-type {\n",
       "        vertical-align: middle;\n",
       "    }\n",
       "\n",
       "    .dataframe tbody tr th {\n",
       "        vertical-align: top;\n",
       "    }\n",
       "\n",
       "    .dataframe thead th {\n",
       "        text-align: right;\n",
       "    }\n",
       "</style>\n",
       "<table border=\"1\" class=\"dataframe\">\n",
       "  <thead>\n",
       "    <tr style=\"text-align: right;\">\n",
       "      <th></th>\n",
       "      <th>PLAYER</th>\n",
       "      <th>TEAM</th>\n",
       "      <th>OREB</th>\n",
       "    </tr>\n",
       "  </thead>\n",
       "  <tbody>\n",
       "    <tr>\n",
       "      <td>0</td>\n",
       "      <td>A.J. Lawson</td>\n",
       "      <td>DAL</td>\n",
       "      <td>0.6</td>\n",
       "    </tr>\n",
       "    <tr>\n",
       "      <td>1</td>\n",
       "      <td>AJ Green</td>\n",
       "      <td>MIL</td>\n",
       "      <td>0.3</td>\n",
       "    </tr>\n",
       "  </tbody>\n",
       "</table>\n",
       "</div>"
      ],
      "text/plain": [
       "        PLAYER TEAM  OREB\n",
       "0  A.J. Lawson  DAL   0.6\n",
       "1     AJ Green  MIL   0.3"
      ]
     },
     "execution_count": 172,
     "metadata": {},
     "output_type": "execute_result"
    }
   ],
   "source": [
    "dataframe = dataframe[sel_col_list]\n",
    "dataframe.head(2)"
   ]
  },
  {
   "cell_type": "code",
   "execution_count": 173,
   "id": "d4f98a8b-b31a-42cd-b2c2-56faa6562379",
   "metadata": {},
   "outputs": [],
   "source": [
    "dataframe.columns = ['player', 'team', 'oreb_oreb']"
   ]
  },
  {
   "cell_type": "code",
   "execution_count": 174,
   "id": "9c020eea-8340-479a-8cf9-0edfc589858a",
   "metadata": {},
   "outputs": [
    {
     "name": "stdout",
     "output_type": "stream",
     "text": [
      "saved:  regseas_offreb_2023-24\n"
     ]
    }
   ],
   "source": [
    "dataframe_to_csv(dataframe, '2024_season', filename)\n",
    "print(\"saved: \", filename)"
   ]
  },
  {
   "cell_type": "code",
   "execution_count": 175,
   "id": "cf788ec3-c2db-46f5-a80b-2f9a6a8f938b",
   "metadata": {},
   "outputs": [],
   "source": [
    "filename = \"regseas_defreb_{}\".format(current_season)\n",
    "\n",
    "scrape_nba_season_data(track_defreb_url, folder_name = '2024_season', \\\n",
    "                       metric_name = filename, season = current_season, seas_type = 'Regular+Season')\n",
    "time.sleep(1)\n",
    "dataframe = parse_html(folder_name = '2024_season', file_name = filename, id_name=\"Crom_table__p1iZz\", \\\n",
    "                       decompose_id='tr', decompose_class=\"thead\")"
   ]
  },
  {
   "cell_type": "code",
   "execution_count": 176,
   "id": "2229fef4-9068-4a53-b459-92700f0ce24c",
   "metadata": {},
   "outputs": [
    {
     "data": {
      "text/plain": [
       "array(['PLAYER', 'TEAM', 'GP', 'W', 'L', 'MIN', 'DREB', 'ContestedDREB',\n",
       "       'ContestedDREB%', 'DREBChances', 'DREBChance%',\n",
       "       'DeferredDREB\\xa0Chances', 'AdjustedDREB\\xa0Chance%',\n",
       "       'AVG\\xa0DREBDistance'], dtype=object)"
      ]
     },
     "execution_count": 176,
     "metadata": {},
     "output_type": "execute_result"
    }
   ],
   "source": [
    "dataframe.columns.values"
   ]
  },
  {
   "cell_type": "code",
   "execution_count": 177,
   "id": "0f1acb64-d2ee-4fa3-9f84-82c90bf6ce4f",
   "metadata": {},
   "outputs": [],
   "source": [
    "sel_col_list = ['PLAYER', 'TEAM', 'AVG\\xa0DREBDistance', 'ContestedDREB', 'DREBChances',\n",
    "               'DREBChance%', 'ContestedDREB%', 'AdjustedDREB\\xa0Chance%', 'DREB']"
   ]
  },
  {
   "cell_type": "code",
   "execution_count": 178,
   "id": "86709a7f-83e2-4b06-b01e-02aaa226a660",
   "metadata": {},
   "outputs": [
    {
     "data": {
      "text/html": [
       "<div>\n",
       "<style scoped>\n",
       "    .dataframe tbody tr th:only-of-type {\n",
       "        vertical-align: middle;\n",
       "    }\n",
       "\n",
       "    .dataframe tbody tr th {\n",
       "        vertical-align: top;\n",
       "    }\n",
       "\n",
       "    .dataframe thead th {\n",
       "        text-align: right;\n",
       "    }\n",
       "</style>\n",
       "<table border=\"1\" class=\"dataframe\">\n",
       "  <thead>\n",
       "    <tr style=\"text-align: right;\">\n",
       "      <th></th>\n",
       "      <th>PLAYER</th>\n",
       "      <th>TEAM</th>\n",
       "      <th>AVG DREBDistance</th>\n",
       "      <th>ContestedDREB</th>\n",
       "      <th>DREBChances</th>\n",
       "      <th>DREBChance%</th>\n",
       "      <th>ContestedDREB%</th>\n",
       "      <th>AdjustedDREB Chance%</th>\n",
       "      <th>DREB</th>\n",
       "    </tr>\n",
       "  </thead>\n",
       "  <tbody>\n",
       "    <tr>\n",
       "      <td>0</td>\n",
       "      <td>A.J. Lawson</td>\n",
       "      <td>DAL</td>\n",
       "      <td>5.5</td>\n",
       "      <td>0.4</td>\n",
       "      <td>2.4</td>\n",
       "      <td>50.0</td>\n",
       "      <td>32.0</td>\n",
       "      <td>58.1</td>\n",
       "      <td>1.2</td>\n",
       "    </tr>\n",
       "    <tr>\n",
       "      <td>1</td>\n",
       "      <td>AJ Green</td>\n",
       "      <td>MIL</td>\n",
       "      <td>8.1</td>\n",
       "      <td>0.2</td>\n",
       "      <td>2.9</td>\n",
       "      <td>58.7</td>\n",
       "      <td>11.1</td>\n",
       "      <td>62.1</td>\n",
       "      <td>1.7</td>\n",
       "    </tr>\n",
       "  </tbody>\n",
       "</table>\n",
       "</div>"
      ],
      "text/plain": [
       "        PLAYER TEAM  AVG DREBDistance  ContestedDREB  DREBChances  \\\n",
       "0  A.J. Lawson  DAL               5.5            0.4          2.4   \n",
       "1     AJ Green  MIL               8.1            0.2          2.9   \n",
       "\n",
       "   DREBChance%  ContestedDREB%  AdjustedDREB Chance%  DREB  \n",
       "0         50.0            32.0                  58.1   1.2  \n",
       "1         58.7            11.1                  62.1   1.7  "
      ]
     },
     "execution_count": 178,
     "metadata": {},
     "output_type": "execute_result"
    }
   ],
   "source": [
    "dataframe = dataframe[sel_col_list]\n",
    "dataframe.head(2)"
   ]
  },
  {
   "cell_type": "code",
   "execution_count": 179,
   "id": "31e347ee-0a06-42f3-934d-68799e99d824",
   "metadata": {},
   "outputs": [],
   "source": [
    "dataframe.columns = ['player', 'team', 'avg\\xa0drebdistance_reb', 'contesteddreb_reb', 'drebchances_reb',\n",
    "                     'drebchance%_reb', 'contesteddreb%_reb', 'adjusteddreb\\xa0chance%_reb', 'dreb_reb']"
   ]
  },
  {
   "cell_type": "code",
   "execution_count": 180,
   "id": "9637671e-ab6d-4f42-a960-618c756b6438",
   "metadata": {},
   "outputs": [
    {
     "name": "stdout",
     "output_type": "stream",
     "text": [
      "saved:  regseas_defreb_2023-24\n"
     ]
    }
   ],
   "source": [
    "dataframe_to_csv(dataframe, '2024_season', filename)\n",
    "print(\"saved: \", filename)"
   ]
  },
  {
   "cell_type": "code",
   "execution_count": 181,
   "id": "b7e5f082-119d-4b17-abf1-13cd26906ff8",
   "metadata": {},
   "outputs": [],
   "source": [
    "filename = \"regseas_shootef_{}\".format(current_season)\n",
    "\n",
    "scrape_nba_season_data(track_shoot_eff_url, folder_name = '2024_season', \\\n",
    "                       metric_name = filename, season = current_season, seas_type = 'Regular+Season')\n",
    "time.sleep(1)\n",
    "dataframe = parse_html(folder_name = '2024_season', file_name = filename, id_name=\"Crom_table__p1iZz\", \\\n",
    "                       decompose_id='tr', decompose_class=\"thead\")"
   ]
  },
  {
   "cell_type": "code",
   "execution_count": 182,
   "id": "b66fb72b-172f-4ab9-93af-fa715c1a7901",
   "metadata": {},
   "outputs": [
    {
     "data": {
      "text/plain": [
       "array(['PLAYER', 'TEAM', 'GP', 'W', 'L', 'MIN', 'PTS', 'DrivePTS',\n",
       "       'DriveFG%', 'C&SPTS', 'C&SFG%', 'Pull\\xa0UpPTS', 'Pull\\xa0UpFG%',\n",
       "       'PaintTouch\\xa0PTS', 'PaintTouch\\xa0FG%', 'PostTouch\\xa0PTS',\n",
       "       'PostTouch\\xa0FG%', 'ElbowTouch\\xa0PTS', 'ElbowTouch\\xa0FG%',\n",
       "       'eFG%'], dtype=object)"
      ]
     },
     "execution_count": 182,
     "metadata": {},
     "output_type": "execute_result"
    }
   ],
   "source": [
    "dataframe.columns.values"
   ]
  },
  {
   "cell_type": "code",
   "execution_count": 183,
   "id": "e0553e1e-b242-4a10-a60c-d6a89912b8ce",
   "metadata": {},
   "outputs": [],
   "source": [
    "sel_col_list = ['PLAYER', 'TEAM', 'PaintTouch\\xa0PTS', 'Pull\\xa0UpFG%']"
   ]
  },
  {
   "cell_type": "code",
   "execution_count": 184,
   "id": "05060c2b-927a-4690-a3ca-c437cfaddfb4",
   "metadata": {},
   "outputs": [
    {
     "data": {
      "text/html": [
       "<div>\n",
       "<style scoped>\n",
       "    .dataframe tbody tr th:only-of-type {\n",
       "        vertical-align: middle;\n",
       "    }\n",
       "\n",
       "    .dataframe tbody tr th {\n",
       "        vertical-align: top;\n",
       "    }\n",
       "\n",
       "    .dataframe thead th {\n",
       "        text-align: right;\n",
       "    }\n",
       "</style>\n",
       "<table border=\"1\" class=\"dataframe\">\n",
       "  <thead>\n",
       "    <tr style=\"text-align: right;\">\n",
       "      <th></th>\n",
       "      <th>PLAYER</th>\n",
       "      <th>TEAM</th>\n",
       "      <th>PaintTouch PTS</th>\n",
       "      <th>Pull UpFG%</th>\n",
       "    </tr>\n",
       "  </thead>\n",
       "  <tbody>\n",
       "    <tr>\n",
       "      <td>0</td>\n",
       "      <td>A.J. Lawson</td>\n",
       "      <td>DAL</td>\n",
       "      <td>0.6</td>\n",
       "      <td>0.0</td>\n",
       "    </tr>\n",
       "    <tr>\n",
       "      <td>1</td>\n",
       "      <td>AJ Green</td>\n",
       "      <td>MIL</td>\n",
       "      <td>0.1</td>\n",
       "      <td>36.4</td>\n",
       "    </tr>\n",
       "  </tbody>\n",
       "</table>\n",
       "</div>"
      ],
      "text/plain": [
       "        PLAYER TEAM  PaintTouch PTS  Pull UpFG%\n",
       "0  A.J. Lawson  DAL             0.6         0.0\n",
       "1     AJ Green  MIL             0.1        36.4"
      ]
     },
     "execution_count": 184,
     "metadata": {},
     "output_type": "execute_result"
    }
   ],
   "source": [
    "dataframe = dataframe[sel_col_list]\n",
    "dataframe.head(2)"
   ]
  },
  {
   "cell_type": "code",
   "execution_count": 185,
   "id": "26f2ca4d-6666-4177-a325-64abf2b194b6",
   "metadata": {},
   "outputs": [],
   "source": [
    "dataframe.columns = ['player', 'team', 'painttouch\\xa0pts_shooting_eff', 'pull\\xa0upfg%_shooting_eff']"
   ]
  },
  {
   "cell_type": "code",
   "execution_count": 186,
   "id": "993aa522-66bc-49fe-b0d7-ffae6d654a24",
   "metadata": {},
   "outputs": [
    {
     "name": "stdout",
     "output_type": "stream",
     "text": [
      "saved:  regseas_shootef_2023-24\n"
     ]
    }
   ],
   "source": [
    "dataframe_to_csv(dataframe, '2024_season', filename)\n",
    "print(\"saved: \", filename)"
   ]
  },
  {
   "cell_type": "code",
   "execution_count": 187,
   "id": "25258796-fa41-4ac4-a411-247bb811dbdd",
   "metadata": {},
   "outputs": [],
   "source": [
    "filename = \"regseas_speed_{}\".format(current_season)\n",
    "\n",
    "scrape_nba_season_data(track_speed_url, folder_name = '2024_season', \\\n",
    "                       metric_name = filename, season = current_season, seas_type = 'Regular+Season')\n",
    "time.sleep(1)\n",
    "dataframe = parse_html(folder_name = '2024_season', file_name = filename, id_name=\"Crom_table__p1iZz\", \\\n",
    "                       decompose_id='tr', decompose_class=\"thead\")"
   ]
  },
  {
   "cell_type": "code",
   "execution_count": 188,
   "id": "4510f93f-4558-4cd1-9900-152cd61670bb",
   "metadata": {},
   "outputs": [
    {
     "data": {
      "text/plain": [
       "array(['PLAYER', 'TEAM', 'GP', 'W', 'L', 'MIN', 'Dist.\\xa0Feet',\n",
       "       'Dist.\\xa0Miles', 'Dist.\\xa0Miles\\xa0Off', 'Dist.\\xa0Miles\\xa0Def',\n",
       "       'Avg\\xa0Speed', 'Avg\\xa0Speed\\xa0Off', 'Avg\\xa0Speed\\xa0Def'],\n",
       "      dtype=object)"
      ]
     },
     "execution_count": 188,
     "metadata": {},
     "output_type": "execute_result"
    }
   ],
   "source": [
    "dataframe.columns.values"
   ]
  },
  {
   "cell_type": "code",
   "execution_count": 189,
   "id": "a0619d52-19b8-46cf-8083-849159a26290",
   "metadata": {},
   "outputs": [],
   "source": [
    "sel_col_list = ['PLAYER', 'TEAM', 'Dist.\\xa0Miles\\xa0Def', 'Avg\\xa0Speed\\xa0Off']"
   ]
  },
  {
   "cell_type": "code",
   "execution_count": 190,
   "id": "f0ab0b3a-1c03-498a-9248-5a561032fcdd",
   "metadata": {},
   "outputs": [
    {
     "data": {
      "text/html": [
       "<div>\n",
       "<style scoped>\n",
       "    .dataframe tbody tr th:only-of-type {\n",
       "        vertical-align: middle;\n",
       "    }\n",
       "\n",
       "    .dataframe tbody tr th {\n",
       "        vertical-align: top;\n",
       "    }\n",
       "\n",
       "    .dataframe thead th {\n",
       "        text-align: right;\n",
       "    }\n",
       "</style>\n",
       "<table border=\"1\" class=\"dataframe\">\n",
       "  <thead>\n",
       "    <tr style=\"text-align: right;\">\n",
       "      <th></th>\n",
       "      <th>PLAYER</th>\n",
       "      <th>TEAM</th>\n",
       "      <th>Dist. Miles Def</th>\n",
       "      <th>Avg Speed Off</th>\n",
       "    </tr>\n",
       "  </thead>\n",
       "  <tbody>\n",
       "    <tr>\n",
       "      <td>0</td>\n",
       "      <td>A.J. Lawson</td>\n",
       "      <td>DAL</td>\n",
       "      <td>0.28</td>\n",
       "      <td>4.75</td>\n",
       "    </tr>\n",
       "    <tr>\n",
       "      <td>1</td>\n",
       "      <td>AJ Green</td>\n",
       "      <td>MIL</td>\n",
       "      <td>0.40</td>\n",
       "      <td>4.72</td>\n",
       "    </tr>\n",
       "  </tbody>\n",
       "</table>\n",
       "</div>"
      ],
      "text/plain": [
       "        PLAYER TEAM  Dist. Miles Def  Avg Speed Off\n",
       "0  A.J. Lawson  DAL             0.28           4.75\n",
       "1     AJ Green  MIL             0.40           4.72"
      ]
     },
     "execution_count": 190,
     "metadata": {},
     "output_type": "execute_result"
    }
   ],
   "source": [
    "dataframe = dataframe[sel_col_list]\n",
    "dataframe.head(2)"
   ]
  },
  {
   "cell_type": "code",
   "execution_count": 191,
   "id": "c31cf84a-52bf-4281-888e-d95a3b0be9fe",
   "metadata": {},
   "outputs": [],
   "source": [
    "dataframe.columns = ['player', 'team', 'dist.\\xa0miles\\xa0def_speed', 'avg\\xa0speed\\xa0off_speed']"
   ]
  },
  {
   "cell_type": "code",
   "execution_count": 192,
   "id": "8da1e1f9-ee2f-417d-8fc6-f36a52672643",
   "metadata": {},
   "outputs": [
    {
     "name": "stdout",
     "output_type": "stream",
     "text": [
      "saved:  regseas_speed_2023-24\n"
     ]
    }
   ],
   "source": [
    "dataframe_to_csv(dataframe, '2024_season', filename)\n",
    "print(\"saved: \", filename)"
   ]
  },
  {
   "cell_type": "code",
   "execution_count": 193,
   "id": "ec0f7a31-f6af-4ebf-913b-3341483042a2",
   "metadata": {},
   "outputs": [],
   "source": [
    "filename = \"regseas_shootzone_pergame_{}\".format(current_season)\n",
    "scrape_nba_season_data(shoot_by_zone_url, folder_name = '2024_season', \\\n",
    "                       metric_name = filename, season = current_season, seas_type = 'Regular+Season')\n",
    "time.sleep(1)\n",
    "dataframe = parse_html(folder_name = '2024_season', file_name = filename, id_name=\"Crom_table__p1iZz\", \\\n",
    "                       decompose_id='tr', decompose_class=\"thead\")\n",
    "\n",
    "dataframe.columns = dataframe.columns.droplevel() \n",
    "\n",
    "shzone_columns = ['Player', 'Team', 'Age', 'RA_FGM', 'RA_FGA', 'RA_FG%', 'PAINT_FGM', 'PAINT_FGA', 'PAINT_FG%',\\\n",
    "               'MR_FGM', 'MR_FGA', 'MR_FG%', 'LC3_FGM', 'LC3_FGA', 'LC3_FG%', 'RC3_FGM', 'RC3_FGA', 'RC3_FG%', \\\n",
    "              'C3_FGA', 'C3_FGA', 'C3_FGA', 'AB3_FGM', 'AB3_FGA', 'AB3_FG%']\n",
    "\n",
    "drop_columns = ['Unnamed: 24_level_1', 'Unnamed: 25_level_1', 'Unnamed: 26_level_1']\n",
    "\n",
    "dataframe = dataframe.drop(drop_columns, axis=1)\n",
    "dataframe.columns = shzone_columns\n",
    "\n"
   ]
  },
  {
   "cell_type": "code",
   "execution_count": 194,
   "id": "a5d6321e-1fc7-4794-8b73-ebf9537dd277",
   "metadata": {},
   "outputs": [
    {
     "data": {
      "text/plain": [
       "array(['Player', 'Team', 'Age', 'RA_FGM', 'RA_FGA', 'RA_FG%', 'PAINT_FGM',\n",
       "       'PAINT_FGA', 'PAINT_FG%', 'MR_FGM', 'MR_FGA', 'MR_FG%', 'LC3_FGM',\n",
       "       'LC3_FGA', 'LC3_FG%', 'RC3_FGM', 'RC3_FGA', 'RC3_FG%', 'C3_FGA',\n",
       "       'C3_FGA', 'C3_FGA', 'AB3_FGM', 'AB3_FGA', 'AB3_FG%'], dtype=object)"
      ]
     },
     "execution_count": 194,
     "metadata": {},
     "output_type": "execute_result"
    }
   ],
   "source": [
    "dataframe.columns.values"
   ]
  },
  {
   "cell_type": "code",
   "execution_count": 195,
   "id": "2f7d4b2b-f380-43da-bc0d-a0b39fa137e8",
   "metadata": {},
   "outputs": [],
   "source": [
    "sel_col_list = ['Player', 'Team', 'MR_FG%']"
   ]
  },
  {
   "cell_type": "code",
   "execution_count": 196,
   "id": "5451a10b-3445-4d01-97a5-08c35c40de33",
   "metadata": {},
   "outputs": [
    {
     "data": {
      "text/html": [
       "<div>\n",
       "<style scoped>\n",
       "    .dataframe tbody tr th:only-of-type {\n",
       "        vertical-align: middle;\n",
       "    }\n",
       "\n",
       "    .dataframe tbody tr th {\n",
       "        vertical-align: top;\n",
       "    }\n",
       "\n",
       "    .dataframe thead th {\n",
       "        text-align: right;\n",
       "    }\n",
       "</style>\n",
       "<table border=\"1\" class=\"dataframe\">\n",
       "  <thead>\n",
       "    <tr style=\"text-align: right;\">\n",
       "      <th></th>\n",
       "      <th>Player</th>\n",
       "      <th>Team</th>\n",
       "      <th>MR_FG%</th>\n",
       "    </tr>\n",
       "  </thead>\n",
       "  <tbody>\n",
       "    <tr>\n",
       "      <td>0</td>\n",
       "      <td>A.J. Lawson</td>\n",
       "      <td>DAL</td>\n",
       "      <td>50.0</td>\n",
       "    </tr>\n",
       "    <tr>\n",
       "      <td>1</td>\n",
       "      <td>AJ Green</td>\n",
       "      <td>MIL</td>\n",
       "      <td>53.3</td>\n",
       "    </tr>\n",
       "  </tbody>\n",
       "</table>\n",
       "</div>"
      ],
      "text/plain": [
       "        Player Team MR_FG%\n",
       "0  A.J. Lawson  DAL   50.0\n",
       "1     AJ Green  MIL   53.3"
      ]
     },
     "execution_count": 196,
     "metadata": {},
     "output_type": "execute_result"
    }
   ],
   "source": [
    "dataframe = dataframe[sel_col_list]\n",
    "dataframe.head(2)"
   ]
  },
  {
   "cell_type": "code",
   "execution_count": 197,
   "id": "03f236c1-c55e-4b23-93ef-93088598de93",
   "metadata": {},
   "outputs": [],
   "source": [
    "dataframe.columns = ['player', 'team', 'mr_fg%_shootingzone']"
   ]
  },
  {
   "cell_type": "code",
   "execution_count": 198,
   "id": "de0fb652-7555-413c-a7b0-f25bd51fc411",
   "metadata": {},
   "outputs": [
    {
     "name": "stdout",
     "output_type": "stream",
     "text": [
      "saved:  regseas_shootzone_pergame_2023-24\n"
     ]
    }
   ],
   "source": [
    "dataframe_to_csv(dataframe, 'shooting_by_zone', filename)\n",
    "print(\"saved: \", filename)"
   ]
  },
  {
   "cell_type": "code",
   "execution_count": null,
   "id": "ab8fdc88-b8dd-4863-8f5c-45fc38e67521",
   "metadata": {},
   "outputs": [],
   "source": []
  }
 ],
 "metadata": {
  "kernelspec": {
   "display_name": "Python 3 (ipykernel)",
   "language": "python",
   "name": "python3"
  },
  "language_info": {
   "codemirror_mode": {
    "name": "ipython",
    "version": 3
   },
   "file_extension": ".py",
   "mimetype": "text/x-python",
   "name": "python",
   "nbconvert_exporter": "python",
   "pygments_lexer": "ipython3",
   "version": "3.7.15"
  }
 },
 "nbformat": 4,
 "nbformat_minor": 5
}
