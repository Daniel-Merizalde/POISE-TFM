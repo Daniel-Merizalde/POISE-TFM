{
 "cells": [
  {
   "cell_type": "code",
   "execution_count": 9,
   "id": "a0da99bb-aa87-4a77-b721-4097fcd76a37",
   "metadata": {},
   "outputs": [],
   "source": [
    "# Imports iniciales\n",
    "\n",
    "import requests\n",
    "import pandas as pd\n",
    "from bs4 import BeautifulSoup\n",
    "from lxml import html\n",
    "import time\n",
    "from numpy import random"
   ]
  },
  {
   "cell_type": "code",
   "execution_count": 10,
   "id": "91fee663-00b6-4b42-ad96-297b60df2e45",
   "metadata": {},
   "outputs": [],
   "source": [
    "# Lista de URLs para data BPM\n",
    "\n",
    "regseas_adv_url = \"https://www.basketball-reference.com/leagues/NBA_{}_advanced.html\"\n",
    "playoff_adv_url = \"https://www.basketball-reference.com/playoffs/NBA_{}_advanced.html\""
   ]
  },
  {
   "cell_type": "code",
   "execution_count": 11,
   "id": "df9436fa-92c9-4e25-94a2-847ed08be829",
   "metadata": {},
   "outputs": [],
   "source": [
    "# Lista de URLs para otra data BBALLREF\n",
    "\n",
    "regseas_pbp_url = \"https://www.basketball-reference.com/leagues/NBA_{}_play-by-play.html\"\n",
    "regseas_shooting_url = \"https://www.basketball-reference.com/leagues/NBA_{}_shooting.html\"\n",
    "\n",
    "regseas_adjshooting_url = \"https://www.basketball-reference.com/leagues/NBA_{}_adj_shooting.html\"\n",
    "# Adjusted shooting tiene un problema pero se puede calcular fácilmete, ahí están las fórmulas"
   ]
  },
  {
   "cell_type": "code",
   "execution_count": 12,
   "id": "fdef6657-2535-428d-bff2-7efb98f76ef2",
   "metadata": {},
   "outputs": [],
   "source": [
    "selected_seasons = ['2014', '2015', '2016', '2017', '2018', '2019', '2020', '2021', '2022', '2023']"
   ]
  },
  {
   "cell_type": "code",
   "execution_count": 13,
   "id": "ecaf4e78-39f8-4328-9d89-a6d304832476",
   "metadata": {},
   "outputs": [
    {
     "name": "stdout",
     "output_type": "stream",
     "text": [
      "[1997, 1998, 1999, 2000, 2001, 2002, 2003, 2004, 2005, 2006, 2007, 2008, 2009, 2010, 2011, 2012, 2013, 2014, 2015, 2016, 2017, 2018, 2019, 2020, 2021, 2022, 2023]\n"
     ]
    }
   ],
   "source": [
    "increased_season_ls = []\n",
    "\n",
    "for year in range(1997, 2024):\n",
    "    season = year\n",
    "    increased_season_ls.append(season)\n",
    "\n",
    "print(increased_season_ls)"
   ]
  },
  {
   "cell_type": "code",
   "execution_count": 14,
   "id": "f3118a4d-ce38-44b0-b2dc-9b67be7dc163",
   "metadata": {},
   "outputs": [],
   "source": [
    "def dataframe_to_csv(dataframe, folder_name, file_name, season_type):\n",
    "    if season_type == \"reg_season\":\n",
    "        path = \"{}/reg_season_{}.csv\".format(folder_name, file_name)\n",
    "        \n",
    "    elif season_type == \"playoffs\":\n",
    "        path = \"{}/playoffs_{}.csv\".format(folder_name, file_name)\n",
    "    dataframe.to_csv(path, index=False)"
   ]
  },
  {
   "cell_type": "code",
   "execution_count": 15,
   "id": "c74fdeb1-70d5-426d-8a08-f1fbe9165635",
   "metadata": {},
   "outputs": [],
   "source": [
    "def download_data(selected_url, folder, seasons_list, season_type, table_id):\n",
    "    for season in seasons_list:\n",
    "        url = selected_url.format(season)\n",
    "        time.sleep(random.uniform(2, 5))\n",
    "        print(url)\n",
    "        response = requests.get(url)\n",
    "        \n",
    "        if response.status_code == 200:\n",
    "            soup = BeautifulSoup(response.content, 'html.parser')\n",
    "            table = soup.find('table', {'id': table_id})\n",
    "            df = pd.read_html(str(table))[0]  # Convert the HTML table to a DataFrame\n",
    "            \n",
    "            dataframe_to_csv(df, folder, season, season_type)\n",
    "            time.sleep(random.uniform(2, 5))\n",
    "            print(\"Saved CSV file for \", season, \" season\")\n",
    "            \n",
    "        else:\n",
    "            print(\"Failed to retrieve data. Status code:\", response.status_code)"
   ]
  },
  {
   "cell_type": "code",
   "execution_count": 16,
   "id": "dabe477d-1d47-4836-a84f-dc9b7f91563f",
   "metadata": {},
   "outputs": [
    {
     "name": "stdout",
     "output_type": "stream",
     "text": [
      "https://www.basketball-reference.com/leagues/NBA_2024_advanced.html\n",
      "Saved CSV file for  2024  season\n"
     ]
    }
   ],
   "source": [
    "download_data(regseas_adv_url, 'rs_bpm_2024_', [2024], 'reg_season', 'advanced_stats')"
   ]
  },
  {
   "cell_type": "code",
   "execution_count": 90,
   "id": "c7f91a71-0ea0-4ae4-aacf-268dc9676e69",
   "metadata": {},
   "outputs": [
    {
     "name": "stdout",
     "output_type": "stream",
     "text": [
      "https://www.basketball-reference.com/playoffs/NBA_1997_advanced.html\n",
      "Saved CSV file for  1997  season\n",
      "https://www.basketball-reference.com/playoffs/NBA_1998_advanced.html\n",
      "Saved CSV file for  1998  season\n",
      "https://www.basketball-reference.com/playoffs/NBA_1999_advanced.html\n",
      "Saved CSV file for  1999  season\n",
      "https://www.basketball-reference.com/playoffs/NBA_2000_advanced.html\n",
      "Saved CSV file for  2000  season\n",
      "https://www.basketball-reference.com/playoffs/NBA_2001_advanced.html\n",
      "Saved CSV file for  2001  season\n",
      "https://www.basketball-reference.com/playoffs/NBA_2002_advanced.html\n",
      "Saved CSV file for  2002  season\n",
      "https://www.basketball-reference.com/playoffs/NBA_2003_advanced.html\n",
      "Saved CSV file for  2003  season\n",
      "https://www.basketball-reference.com/playoffs/NBA_2004_advanced.html\n",
      "Saved CSV file for  2004  season\n",
      "https://www.basketball-reference.com/playoffs/NBA_2005_advanced.html\n",
      "Saved CSV file for  2005  season\n",
      "https://www.basketball-reference.com/playoffs/NBA_2006_advanced.html\n",
      "Saved CSV file for  2006  season\n",
      "https://www.basketball-reference.com/playoffs/NBA_2007_advanced.html\n",
      "Saved CSV file for  2007  season\n",
      "https://www.basketball-reference.com/playoffs/NBA_2008_advanced.html\n",
      "Saved CSV file for  2008  season\n",
      "https://www.basketball-reference.com/playoffs/NBA_2009_advanced.html\n",
      "Saved CSV file for  2009  season\n",
      "https://www.basketball-reference.com/playoffs/NBA_2010_advanced.html\n",
      "Saved CSV file for  2010  season\n",
      "https://www.basketball-reference.com/playoffs/NBA_2011_advanced.html\n",
      "Saved CSV file for  2011  season\n",
      "https://www.basketball-reference.com/playoffs/NBA_2012_advanced.html\n",
      "Saved CSV file for  2012  season\n",
      "https://www.basketball-reference.com/playoffs/NBA_2013_advanced.html\n",
      "Saved CSV file for  2013  season\n",
      "https://www.basketball-reference.com/playoffs/NBA_2014_advanced.html\n",
      "Saved CSV file for  2014  season\n",
      "https://www.basketball-reference.com/playoffs/NBA_2015_advanced.html\n",
      "Saved CSV file for  2015  season\n",
      "https://www.basketball-reference.com/playoffs/NBA_2016_advanced.html\n",
      "Saved CSV file for  2016  season\n",
      "https://www.basketball-reference.com/playoffs/NBA_2017_advanced.html\n",
      "Saved CSV file for  2017  season\n",
      "https://www.basketball-reference.com/playoffs/NBA_2018_advanced.html\n",
      "Saved CSV file for  2018  season\n",
      "https://www.basketball-reference.com/playoffs/NBA_2019_advanced.html\n",
      "Saved CSV file for  2019  season\n",
      "https://www.basketball-reference.com/playoffs/NBA_2020_advanced.html\n",
      "Saved CSV file for  2020  season\n",
      "https://www.basketball-reference.com/playoffs/NBA_2021_advanced.html\n",
      "Saved CSV file for  2021  season\n",
      "https://www.basketball-reference.com/playoffs/NBA_2022_advanced.html\n",
      "Saved CSV file for  2022  season\n",
      "https://www.basketball-reference.com/playoffs/NBA_2023_advanced.html\n",
      "Saved CSV file for  2023  season\n"
     ]
    }
   ],
   "source": [
    "download_data(playoff_adv_url, 'playoff_bpm_data', increased_season_ls, 'playoffs', 'advanced_stats')"
   ]
  },
  {
   "cell_type": "code",
   "execution_count": 91,
   "id": "94bda343-b5de-49ba-9998-f68fe44be685",
   "metadata": {},
   "outputs": [
    {
     "name": "stdout",
     "output_type": "stream",
     "text": [
      "https://www.basketball-reference.com/leagues/NBA_1997_play-by-play.html\n",
      "Saved CSV file for  1997  season\n",
      "https://www.basketball-reference.com/leagues/NBA_1998_play-by-play.html\n",
      "Saved CSV file for  1998  season\n",
      "https://www.basketball-reference.com/leagues/NBA_1999_play-by-play.html\n",
      "Saved CSV file for  1999  season\n",
      "https://www.basketball-reference.com/leagues/NBA_2000_play-by-play.html\n",
      "Saved CSV file for  2000  season\n",
      "https://www.basketball-reference.com/leagues/NBA_2001_play-by-play.html\n",
      "Saved CSV file for  2001  season\n",
      "https://www.basketball-reference.com/leagues/NBA_2002_play-by-play.html\n",
      "Saved CSV file for  2002  season\n",
      "https://www.basketball-reference.com/leagues/NBA_2003_play-by-play.html\n",
      "Saved CSV file for  2003  season\n",
      "https://www.basketball-reference.com/leagues/NBA_2004_play-by-play.html\n",
      "Saved CSV file for  2004  season\n",
      "https://www.basketball-reference.com/leagues/NBA_2005_play-by-play.html\n",
      "Saved CSV file for  2005  season\n",
      "https://www.basketball-reference.com/leagues/NBA_2006_play-by-play.html\n",
      "Saved CSV file for  2006  season\n",
      "https://www.basketball-reference.com/leagues/NBA_2007_play-by-play.html\n",
      "Saved CSV file for  2007  season\n",
      "https://www.basketball-reference.com/leagues/NBA_2008_play-by-play.html\n",
      "Saved CSV file for  2008  season\n",
      "https://www.basketball-reference.com/leagues/NBA_2009_play-by-play.html\n",
      "Saved CSV file for  2009  season\n",
      "https://www.basketball-reference.com/leagues/NBA_2010_play-by-play.html\n",
      "Saved CSV file for  2010  season\n",
      "https://www.basketball-reference.com/leagues/NBA_2011_play-by-play.html\n",
      "Saved CSV file for  2011  season\n",
      "https://www.basketball-reference.com/leagues/NBA_2012_play-by-play.html\n",
      "Saved CSV file for  2012  season\n",
      "https://www.basketball-reference.com/leagues/NBA_2013_play-by-play.html\n",
      "Saved CSV file for  2013  season\n",
      "https://www.basketball-reference.com/leagues/NBA_2014_play-by-play.html\n",
      "Saved CSV file for  2014  season\n",
      "https://www.basketball-reference.com/leagues/NBA_2015_play-by-play.html\n",
      "Saved CSV file for  2015  season\n",
      "https://www.basketball-reference.com/leagues/NBA_2016_play-by-play.html\n",
      "Saved CSV file for  2016  season\n",
      "https://www.basketball-reference.com/leagues/NBA_2017_play-by-play.html\n",
      "Saved CSV file for  2017  season\n",
      "https://www.basketball-reference.com/leagues/NBA_2018_play-by-play.html\n",
      "Saved CSV file for  2018  season\n",
      "https://www.basketball-reference.com/leagues/NBA_2019_play-by-play.html\n",
      "Saved CSV file for  2019  season\n",
      "https://www.basketball-reference.com/leagues/NBA_2020_play-by-play.html\n",
      "Saved CSV file for  2020  season\n",
      "https://www.basketball-reference.com/leagues/NBA_2021_play-by-play.html\n",
      "Saved CSV file for  2021  season\n",
      "https://www.basketball-reference.com/leagues/NBA_2022_play-by-play.html\n",
      "Saved CSV file for  2022  season\n",
      "https://www.basketball-reference.com/leagues/NBA_2023_play-by-play.html\n",
      "Saved CSV file for  2023  season\n"
     ]
    }
   ],
   "source": [
    "download_data(regseas_pbp_url, 'pbp_data', increased_season_ls, 'reg_season', 'pbp_stats')"
   ]
  },
  {
   "cell_type": "code",
   "execution_count": 92,
   "id": "2bf9a0cf-0910-4847-98f6-ffc32d611e91",
   "metadata": {},
   "outputs": [
    {
     "name": "stdout",
     "output_type": "stream",
     "text": [
      "https://www.basketball-reference.com/leagues/NBA_1997_shooting.html\n",
      "Saved CSV file for  1997  season\n",
      "https://www.basketball-reference.com/leagues/NBA_1998_shooting.html\n",
      "Saved CSV file for  1998  season\n",
      "https://www.basketball-reference.com/leagues/NBA_1999_shooting.html\n",
      "Saved CSV file for  1999  season\n",
      "https://www.basketball-reference.com/leagues/NBA_2000_shooting.html\n",
      "Saved CSV file for  2000  season\n",
      "https://www.basketball-reference.com/leagues/NBA_2001_shooting.html\n",
      "Saved CSV file for  2001  season\n",
      "https://www.basketball-reference.com/leagues/NBA_2002_shooting.html\n",
      "Saved CSV file for  2002  season\n",
      "https://www.basketball-reference.com/leagues/NBA_2003_shooting.html\n",
      "Saved CSV file for  2003  season\n",
      "https://www.basketball-reference.com/leagues/NBA_2004_shooting.html\n",
      "Saved CSV file for  2004  season\n",
      "https://www.basketball-reference.com/leagues/NBA_2005_shooting.html\n",
      "Saved CSV file for  2005  season\n",
      "https://www.basketball-reference.com/leagues/NBA_2006_shooting.html\n",
      "Saved CSV file for  2006  season\n",
      "https://www.basketball-reference.com/leagues/NBA_2007_shooting.html\n",
      "Saved CSV file for  2007  season\n",
      "https://www.basketball-reference.com/leagues/NBA_2008_shooting.html\n",
      "Saved CSV file for  2008  season\n",
      "https://www.basketball-reference.com/leagues/NBA_2009_shooting.html\n",
      "Saved CSV file for  2009  season\n",
      "https://www.basketball-reference.com/leagues/NBA_2010_shooting.html\n",
      "Saved CSV file for  2010  season\n",
      "https://www.basketball-reference.com/leagues/NBA_2011_shooting.html\n",
      "Saved CSV file for  2011  season\n",
      "https://www.basketball-reference.com/leagues/NBA_2012_shooting.html\n",
      "Saved CSV file for  2012  season\n",
      "https://www.basketball-reference.com/leagues/NBA_2013_shooting.html\n",
      "Saved CSV file for  2013  season\n",
      "https://www.basketball-reference.com/leagues/NBA_2014_shooting.html\n",
      "Saved CSV file for  2014  season\n",
      "https://www.basketball-reference.com/leagues/NBA_2015_shooting.html\n",
      "Saved CSV file for  2015  season\n",
      "https://www.basketball-reference.com/leagues/NBA_2016_shooting.html\n",
      "Saved CSV file for  2016  season\n",
      "https://www.basketball-reference.com/leagues/NBA_2017_shooting.html\n",
      "Saved CSV file for  2017  season\n",
      "https://www.basketball-reference.com/leagues/NBA_2018_shooting.html\n",
      "Saved CSV file for  2018  season\n",
      "https://www.basketball-reference.com/leagues/NBA_2019_shooting.html\n",
      "Saved CSV file for  2019  season\n",
      "https://www.basketball-reference.com/leagues/NBA_2020_shooting.html\n",
      "Saved CSV file for  2020  season\n",
      "https://www.basketball-reference.com/leagues/NBA_2021_shooting.html\n",
      "Saved CSV file for  2021  season\n",
      "https://www.basketball-reference.com/leagues/NBA_2022_shooting.html\n",
      "Saved CSV file for  2022  season\n",
      "https://www.basketball-reference.com/leagues/NBA_2023_shooting.html\n",
      "Saved CSV file for  2023  season\n"
     ]
    }
   ],
   "source": [
    "download_data(regseas_shooting_url, 'shooting_data', increased_season_ls, 'reg_season', 'shooting_stats')"
   ]
  },
  {
   "cell_type": "code",
   "execution_count": null,
   "id": "cd715456-1af4-4558-98c9-848ca1a1e52e",
   "metadata": {},
   "outputs": [],
   "source": []
  }
 ],
 "metadata": {
  "kernelspec": {
   "display_name": "Python 3 (ipykernel)",
   "language": "python",
   "name": "python3"
  },
  "language_info": {
   "codemirror_mode": {
    "name": "ipython",
    "version": 3
   },
   "file_extension": ".py",
   "mimetype": "text/x-python",
   "name": "python",
   "nbconvert_exporter": "python",
   "pygments_lexer": "ipython3",
   "version": "3.7.15"
  }
 },
 "nbformat": 4,
 "nbformat_minor": 5
}
